{
 "cells": [
  {
   "cell_type": "code",
   "execution_count": 49,
   "id": "906e2aca",
   "metadata": {},
   "outputs": [],
   "source": [
    "class Member():\n",
    "    \n",
    "    def __init__(self):\n",
    "        self.value = 3\n",
    "        self._value = 3\n",
    "        self.__value = 3\n",
    "        \n",
    "    def get_public_value(self):\n",
    "        return self.value \n",
    "    \n",
    "    def set_public_value(self, p_value):\n",
    "        self.value = p_value\n",
    "        \n",
    "    def get_protected_value(self):\n",
    "        return self._value\n",
    "    \n",
    "    def set_protected_value(self, p_value):\n",
    "        self._value = p_value \n",
    "        \n",
    "    def get_private_value(self):\n",
    "        return self.__value \n",
    "    \n",
    "    def set_private_value(self, p_value):\n",
    "        self.__value = p_value \n",
    "        \n",
    "cls = Member()"
   ]
  },
  {
   "cell_type": "code",
   "execution_count": 50,
   "id": "da10b0e9",
   "metadata": {},
   "outputs": [
    {
     "name": "stdout",
     "output_type": "stream",
     "text": [
      "On initialization value\n",
      "3\n",
      "3\n",
      "After direct setting\n",
      "10\n",
      "10\n",
      "Using class setter\n",
      "200\n",
      "200\n"
     ]
    }
   ],
   "source": [
    "# Можно спокойно менять и получать значение public атрибута \n",
    "print(\"On initialization value\")\n",
    "print(cls.value)\n",
    "print(cls.get_public_value())\n",
    "\n",
    "cls.value = 10\n",
    "print(\"After direct setting\")\n",
    "print(cls.value)\n",
    "print(cls.get_public_value())\n",
    "\n",
    "print(\"Using class setter\")\n",
    "cls.set_public_value(200)\n",
    "print(cls.value)\n",
    "print(cls.get_public_value())"
   ]
  },
  {
   "cell_type": "code",
   "execution_count": 51,
   "id": "9802ad2a",
   "metadata": {},
   "outputs": [
    {
     "name": "stdout",
     "output_type": "stream",
     "text": [
      "On initialization value\n",
      "3\n",
      "3\n",
      "After direct setting\n",
      "10\n",
      "10\n",
      "Using class setter\n",
      "200\n",
      "200\n"
     ]
    }
   ],
   "source": [
    "# Можно спокойно менять и получать значение protected атрибута\n",
    "print(\"On initialization value\")\n",
    "print(cls._value)\n",
    "print(cls.get_protected_value())\n",
    "\n",
    "cls._value = 10\n",
    "print(\"After direct setting\")\n",
    "print(cls._value)\n",
    "print(cls.get_protected_value())\n",
    "\n",
    "print(\"Using class setter\")\n",
    "cls.set_protected_value(200)\n",
    "print(cls._value)\n",
    "print(cls.get_protected_value())"
   ]
  },
  {
   "cell_type": "code",
   "execution_count": 52,
   "id": "d8ea78c0",
   "metadata": {},
   "outputs": [
    {
     "name": "stdout",
     "output_type": "stream",
     "text": [
      "On initialization value\n",
      "AttributeError raised, no direct access to private member\n",
      "3\n",
      "After direct setting\n",
      "10\n",
      "3\n",
      "Using class setter\n",
      "10\n",
      "200\n",
      "We can add and assign value however to any nonexistent class variable\n",
      "333\n",
      "444\n",
      "555\n"
     ]
    }
   ],
   "source": [
    "# У экземпляра класса первое обращение к private атрибуту упадет с ошибкой. \n",
    "# Но, затем можно в локальном контексте установить значение чего угодно и получать его \n",
    "# т.е есть действительный контекст класса, а есть липовый контекст (локальный, аля песочница)\n",
    "print(\"On initialization value\")\n",
    "try:\n",
    "    print(cls.__value)\n",
    "except AttributeError:\n",
    "    print(\"AttributeError raised, no direct access to private member\")\n",
    "print(cls.get_private_value())\n",
    "\n",
    "# Использование геттера класса будет получать \"настоящее значение\"\n",
    "# Использование сеттера класса будет изменять \"настоящее значение\"\n",
    "cls.__value = 10\n",
    "print(\"After direct setting\")\n",
    "print(cls.__value)\n",
    "print(cls.get_private_value())\n",
    "\n",
    "print(\"Using class setter\")\n",
    "cls.set_private_value(200)\n",
    "print(cls.__value)\n",
    "print(cls.get_private_value())\n",
    "\n",
    "print(\"We can add and assign value however to any nonexistent class variable\")\n",
    "cls.__another_private_value = 333\n",
    "print(cls.__another_private_value)\n",
    "cls._another_protected_value = 444\n",
    "print(cls._another_protected_value)\n",
    "cls.another_public_value = 555\n",
    "print(cls.another_public_value)"
   ]
  },
  {
   "cell_type": "code",
   "execution_count": 56,
   "id": "3dba655a",
   "metadata": {},
   "outputs": [],
   "source": [
    "# При наследовании поведение атрибутов остается таким же\n",
    "class Member_new(Member):\n",
    "    \n",
    "    def __init__(self):\n",
    "        super().__init__()\n",
    "        \n",
    "cls2 = Member_new()"
   ]
  },
  {
   "cell_type": "code",
   "execution_count": 57,
   "id": "116133ae",
   "metadata": {},
   "outputs": [
    {
     "name": "stdout",
     "output_type": "stream",
     "text": [
      "On initialization value\n",
      "3\n",
      "3\n",
      "After direct setting\n",
      "10\n",
      "10\n",
      "Using class setter\n",
      "200\n",
      "200\n"
     ]
    }
   ],
   "source": [
    "# Можно спокойно менять и получать значение public атрибута \n",
    "print(\"On initialization value\")\n",
    "print(cls2.value)\n",
    "print(cls2.get_public_value())\n",
    "\n",
    "cls2.value = 10\n",
    "print(\"After direct setting\")\n",
    "print(cls2.value)\n",
    "print(cls2.get_public_value())\n",
    "\n",
    "print(\"Using class setter\")\n",
    "cls2.set_public_value(200)\n",
    "print(cls2.value)\n",
    "print(cls2.get_public_value())"
   ]
  },
  {
   "cell_type": "code",
   "execution_count": 58,
   "id": "77cda1e0",
   "metadata": {},
   "outputs": [
    {
     "name": "stdout",
     "output_type": "stream",
     "text": [
      "On initialization value\n",
      "3\n",
      "3\n",
      "After direct setting\n",
      "10\n",
      "10\n",
      "Using class setter\n",
      "200\n",
      "200\n"
     ]
    }
   ],
   "source": [
    "# Можно спокойно менять и получать значение protected атрибута\n",
    "print(\"On initialization value\")\n",
    "print(cls2._value)\n",
    "print(cls2.get_protected_value())\n",
    "\n",
    "cls2._value = 10\n",
    "print(\"After direct setting\")\n",
    "print(cls2._value)\n",
    "print(cls2.get_protected_value())\n",
    "\n",
    "print(\"Using class setter\")\n",
    "cls2.set_protected_value(200)\n",
    "print(cls2._value)\n",
    "print(cls2.get_protected_value())"
   ]
  },
  {
   "cell_type": "code",
   "execution_count": 59,
   "id": "d693aa59",
   "metadata": {},
   "outputs": [
    {
     "name": "stdout",
     "output_type": "stream",
     "text": [
      "On initialization value\n",
      "AttributeError raised, no direct access to private member\n",
      "3\n",
      "After direct setting\n",
      "10\n",
      "3\n",
      "Using class setter\n",
      "10\n",
      "200\n",
      "We can add and assign value however to any nonexistent class variable\n",
      "333\n",
      "444\n",
      "555\n"
     ]
    }
   ],
   "source": [
    "# У экземпляра класса первое обращение к private атрибуту упадет с ошибкой. \n",
    "# Но, затем можно в локальном контексте установить значение чего угодно и получать его \n",
    "# т.е есть действительный контекст класса, а есть липовый контекст (локальный, аля песочница)\n",
    "print(\"On initialization value\")\n",
    "try:\n",
    "    print(cls2.__value)\n",
    "except AttributeError:\n",
    "    print(\"AttributeError raised, no direct access to private member\")\n",
    "print(cls2.get_private_value())\n",
    "\n",
    "# Использование геттера класса будет получать \"настоящее значение\"\n",
    "# Использование сеттера класса будет изменять \"настоящее значение\"\n",
    "cls2.__value = 10\n",
    "print(\"After direct setting\")\n",
    "print(cls2.__value)\n",
    "print(cls2.get_private_value())\n",
    "\n",
    "print(\"Using class setter\")\n",
    "cls2.set_private_value(200)\n",
    "print(cls2.__value)\n",
    "print(cls2.get_private_value())\n",
    "\n",
    "print(\"We can add and assign value however to any nonexistent class variable\")\n",
    "cls2.__another_private_value = 333\n",
    "print(cls2.__another_private_value)\n",
    "cls2._another_protected_value = 444\n",
    "print(cls2._another_protected_value)\n",
    "cls2.another_public_value = 555\n",
    "print(cls2.another_public_value)"
   ]
  },
  {
   "cell_type": "code",
   "execution_count": null,
   "id": "e8db3625",
   "metadata": {},
   "outputs": [],
   "source": []
  }
 ],
 "metadata": {
  "kernelspec": {
   "display_name": "Python 3 (ipykernel)",
   "language": "python",
   "name": "python3"
  },
  "language_info": {
   "codemirror_mode": {
    "name": "ipython",
    "version": 3
   },
   "file_extension": ".py",
   "mimetype": "text/x-python",
   "name": "python",
   "nbconvert_exporter": "python",
   "pygments_lexer": "ipython3",
   "version": "3.8.5"
  }
 },
 "nbformat": 4,
 "nbformat_minor": 5
}
