{
 "cells": [
  {
   "cell_type": "code",
   "execution_count": 1,
   "id": "0a6ff04a",
   "metadata": {},
   "outputs": [],
   "source": [
    "import re \n",
    "\n",
    "# Синтаксис регулярных выражений \n",
    "# Специальные символы \n",
    "# Основные методы\n",
    "# Объект Pattern \n",
    "# Объект Match \n",
    "# Примеры\n",
    "\n",
    "# Все-таки, нужны хэлперы, чтобы красиво показывать и демонстрировать разницу \n",
    "def print_re_search(p_string: str, p_pattern: str) -> re.Match:\n",
    "    \"\"\"\n",
    "        Выводит результат применения re.search \n",
    "        input: \n",
    "            p_string - искомая строка \n",
    "            p_pattern - паттерн регулярного выражения \n",
    "    \"\"\"\n",
    "    l_result = re.search(p_pattern, p_string)\n",
    "    print(\n",
    "        \"\\nСтрока: \" + p_string,\n",
    "        \"Паттерн: \" + p_pattern,\n",
    "        \"Объект поиска: \" + str(l_result),\n",
    "        sep=\"\\n\"\n",
    "    )\n",
    "    if l_result is not None and isinstance(l_result.lastindex, (int,)) and l_result.lastindex > 1:\n",
    "        for i in range(1, l_result.lastindex + 1):\n",
    "            print(\"Группа \" + str(i) + \":\", l_result.group(i))\n",
    "    return l_result\n",
    "    \n",
    "def print_re_match(p_string: str, p_pattern: str):\n",
    "    \"\"\"\n",
    "        Выводит результат применения re.match \n",
    "        input: \n",
    "            p_string - искомая строка \n",
    "            p_pattern - паттерн регулярного выражения \n",
    "    \"\"\"\n",
    "    print(\n",
    "        \"\\nСтрока: \" + p_string,\n",
    "        \"Паттерн: \" + p_pattern,\n",
    "        \"Объект поиска: \" + str(re.match(p_pattern, p_string)),\n",
    "        sep=\"\\n\"\n",
    "    )\n",
    "    \n",
    "def print_re_split(p_string: str, p_pattern: str, p_flags: int=0):\n",
    "    \"\"\"\n",
    "        Выводит результат применения re.split\n",
    "        input:\n",
    "            p_string - искомая строка \n",
    "            p_pattern - паттерн регулярного выражения \n",
    "            p_flags - флаги регулярных выражений\n",
    "    \"\"\"\n",
    "    print(\n",
    "        \"\\nСтрока: \" + p_string,\n",
    "        \"Паттерн: \" + p_pattern,\n",
    "        \"Результат разделения: \" + str(re.split(p_pattern, p_string, flags=p_flags)),\n",
    "        sep=\"\\n\"\n",
    "    )\n",
    "    "
   ]
  },
  {
   "cell_type": "code",
   "execution_count": 2,
   "id": "cd5702fd",
   "metadata": {},
   "outputs": [
    {
     "name": "stdout",
     "output_type": "stream",
     "text": [
      "\n",
      "Строка: \\I'm a backslash\n",
      "Паттерн: \\\\\n",
      "Объект поиска: <re.Match object; span=(0, 1), match='\\\\'>\n",
      "\n",
      "Строка: \\I'm a backslash\n",
      "Паттерн: \\\\\n",
      "Объект поиска: <re.Match object; span=(0, 1), match='\\\\'>\n"
     ]
    },
    {
     "data": {
      "text/plain": [
       "True"
      ]
     },
     "execution_count": 2,
     "metadata": {},
     "output_type": "execute_result"
    }
   ],
   "source": [
    "# Разница между обычным строковым литералом '...' и r'...' (Raw string notation)\n",
    "# Например, если мы хотим найти совпадение по обратному слешу\n",
    "print_re_search(p_string=\"\\I'm a backslash\", p_pattern=\"\\\\\\\\\")\n",
    "print_re_search(p_string=\"\\I'm a backslash\", p_pattern=r\"\\\\\")\n",
    "\n",
    "\"\\\\\\\\\" == r\"\\\\\"\n"
   ]
  },
  {
   "cell_type": "code",
   "execution_count": 3,
   "id": "6e02f255",
   "metadata": {},
   "outputs": [
    {
     "name": "stdout",
     "output_type": "stream",
     "text": [
      "\n",
      "Строка: \n",
      "Паттерн: .\n",
      "Объект поиска: None\n",
      "\n",
      "Строка: \n",
      "\n",
      "Паттерн: .\n",
      "Объект поиска: None\n",
      "\n",
      "Строка:  a1\\+\n",
      "Паттерн: .\n",
      "Результат разделения: ['', '', '', '', '', '']\n",
      "\n",
      "Строка: Line 1 \n",
      "Line 2\n",
      "\n",
      "Паттерн: .\n",
      "Результат разделения: ['', '', '', '', '', '', '', '\\n', '', '', '', '', '', '\\n']\n",
      "\n",
      "Строка: Line 1 \n",
      "Line 2\n",
      "\n",
      "Паттерн: .\n",
      "Результат разделения: ['', '', '', '', '', '', '', '', '', '', '', '', '', '', '', '']\n",
      "\n",
      "Указывай параметр с флагами явно!\n",
      "['', '', '', '', '', '', '', '\\n', '', '', '', '', '', '\\n']\n",
      "['', '', '', '', '', '', '', '', '', '', '', '', '', '', '', '']\n"
     ]
    }
   ],
   "source": [
    "\"\"\"\n",
    "    Синтаксис регулярных выражений\n",
    "\"\"\"\n",
    "\n",
    "# . - любой символ \n",
    "print_re_search(p_string=\"\", p_pattern=\".\") # Не находит совпадения по пустой строке\n",
    "print_re_search(p_string=\"\\n\", p_pattern=\".\") # Не находит совпадения по новой строке\n",
    "print_re_split(p_string=' a1\\+', p_pattern=r'.') # Совпадает во всех местах\n",
    "\n",
    "# Строковой литерал на несколько строк\n",
    "l_string = \"\"\"Line 1 \n",
    "Line 2\n",
    "\"\"\"\n",
    "print_re_split(p_string=l_string, p_pattern=r'.')\n",
    "   \n",
    "# Если выставлен DOTALL то совпадает и с символом новой строки\n",
    "print_re_split(p_string=l_string, p_pattern=r'.', p_flags=re.DOTALL)\n",
    "\n",
    "# Необходимо явно указывать параметр с флагами \n",
    "# Пруфы ниже \n",
    "print(\"\\nУказывай параметр с флагами явно!\")\n",
    "print(re.split(r'.', l_string, re.DOTALL))\n",
    "print(re.split(r'.', l_string, flags=re.DOTALL))\n"
   ]
  },
  {
   "cell_type": "code",
   "execution_count": 4,
   "id": "5ddaa3b3",
   "metadata": {},
   "outputs": [
    {
     "name": "stdout",
     "output_type": "stream",
     "text": [
      "\n",
      "Строка: beggar\n",
      "Паттерн: ^b\n",
      "Объект поиска: <re.Match object; span=(0, 1), match='b'>\n",
      "\n",
      "Строка: beggar\n",
      "Паттерн: b\n",
      "Объект поиска: <re.Match object; span=(0, 1), match='b'>\n",
      "\n",
      "Строка: Раз \n",
      "Два \n",
      "Три \n",
      "Четыре\n",
      "Паттерн: ^\n",
      "Результат разделения: ['', 'Раз \\nДва \\nТри \\nЧетыре']\n",
      "\n",
      "Строка: Раз \n",
      "Два \n",
      "Три \n",
      "Четыре\n",
      "Паттерн: ^\n",
      "Результат разделения: ['', 'Раз \\n', 'Два \\n', 'Три \\n', 'Четыре']\n"
     ]
    }
   ],
   "source": [
    "# ^ - начало строки \n",
    "print_re_search(p_string=\"beggar\", p_pattern=\"^b\")\n",
    "print_re_match(p_string=\"beggar\", p_pattern=\"b\")\n",
    "# re.search(\"^...\") == re.match(\"...\")\n",
    "\n",
    "# Если включен MULTILINE, то совпадает с позицией после новой строки \n",
    "l_string = \"\"\"Раз \n",
    "Два \n",
    "Три \n",
    "Четыре\"\"\"\n",
    "print_re_split(p_string=l_string, p_pattern=\"^\")\n",
    "print_re_split(p_string=l_string, p_pattern=\"^\", p_flags=re.MULTILINE)"
   ]
  },
  {
   "cell_type": "code",
   "execution_count": 5,
   "id": "79481fb2",
   "metadata": {},
   "outputs": [
    {
     "name": "stdout",
     "output_type": "stream",
     "text": [
      "a\n",
      "<re.Match object; span=(4, 6), match='ed'>\n",
      "b\n",
      "['a\\nb\\nc\\nd', '']\n",
      "['a\\nb\\nc\\nd', '\\n', '']\n",
      "['a', '\\nb', '\\nc', '\\nd', '\\n', '']\n"
     ]
    }
   ],
   "source": [
    "# $ - конец строки \n",
    "\n",
    "print(\"a\")\n",
    "a = re.search(\"ed$\", \"dashed\")\n",
    "print(a)\n",
    "\n",
    "# Пример с несколькими строками \n",
    "print(\"b\")\n",
    "l_string = \"a\\nb\\nc\\nd\"\n",
    "b = re.split(\"$\", l_string)\n",
    "print(b)\n",
    "# Это очень странно - совпадает в 2х местах (это написано в документации)\n",
    "l_string = \"a\\nb\\nc\\nd\\n\"\n",
    "b = re.split(\"$\", l_string)\n",
    "print(b)\n",
    "# Если включен MULTILINE, то совпадает с позицией до новой строки\n",
    "b = re.split(\"$\", l_string, flags=re.MULTILINE)\n",
    "print(b)"
   ]
  },
  {
   "cell_type": "code",
   "execution_count": 6,
   "id": "c63d12e4",
   "metadata": {},
   "outputs": [
    {
     "name": "stdout",
     "output_type": "stream",
     "text": [
      "\n",
      "Строка: Hello\n",
      "Паттерн: l*\n",
      "Результат разделения: ['', 'H', 'e', '', 'o', '']\n",
      "\n",
      "Строка: Hello\n",
      "Паттерн: l*?\n",
      "Результат разделения: ['', 'H', 'e', '', '', '', '', 'o', '']\n"
     ]
    }
   ],
   "source": [
    "# * - повторение символов от 0 до плюс бесконечности, спереди указывается символ или группа\n",
    "# У квантификатора всегда должен быть хотя бы 1 символ, по которому он будет искать повторение\n",
    "\n",
    "\"\"\"\n",
    "# Так делать нельзя - упадет с неотловленной ошибкой\n",
    "a = re.split(\"*\", \"Hello\")\n",
    "print(a)\n",
    "\"\"\"\n",
    "\n",
    "# Жадный оператор, схавал обе l \n",
    "print_re_split(p_string=\"Hello\", p_pattern=\"l*\")\n",
    "\n",
    "# Нежадный оператор, нашел все совпадения (до первой l, после первой l, до второй l, после второй l)\n",
    "print_re_split(p_string=\"Hello\", p_pattern=\"l*?\")\n"
   ]
  },
  {
   "cell_type": "code",
   "execution_count": 7,
   "id": "dafb06c7",
   "metadata": {},
   "outputs": [
    {
     "name": "stdout",
     "output_type": "stream",
     "text": [
      "\n",
      "Строка: abaabaaab\n",
      "Паттерн: a+\n",
      "Результат разделения: ['', 'b', 'b', 'b']\n",
      "\n",
      "Строка: abaabaaab\n",
      "Паттерн: a+?\n",
      "Результат разделения: ['', 'b', '', 'b', '', '', 'b']\n"
     ]
    }
   ],
   "source": [
    "# + - повторение символов от 1 до плюс бесконечности\n",
    "print_re_split(p_string=\"abaabaaab\", p_pattern=\"a+\")\n",
    "\n",
    "print_re_split(p_string=\"abaabaaab\", p_pattern=\"a+?\")\n"
   ]
  },
  {
   "cell_type": "code",
   "execution_count": 8,
   "id": "dccd707a",
   "metadata": {},
   "outputs": [
    {
     "name": "stdout",
     "output_type": "stream",
     "text": [
      "\n",
      "Строка: Svetloye solntce\n",
      "Паттерн: Svetloye (pivo)?\n",
      "Объект поиска: <re.Match object; span=(0, 9), match='Svetloye '>\n",
      "\n",
      "Строка: Svetloye \n",
      "Паттерн: Svetloye (pivo)?\n",
      "Объект поиска: <re.Match object; span=(0, 9), match='Svetloye '>\n",
      "\n",
      "Строка: Svetloye pivo\n",
      "Паттерн: Svetloye (pivo)?\n",
      "Объект поиска: <re.Match object; span=(0, 13), match='Svetloye pivo'>\n"
     ]
    },
    {
     "data": {
      "text/plain": [
       "<re.Match object; span=(0, 13), match='Svetloye pivo'>"
      ]
     },
     "execution_count": 8,
     "metadata": {},
     "output_type": "execute_result"
    }
   ],
   "source": [
    "# ? - повторение символов от 0 до 1 раза \n",
    "\n",
    "l_pattern = 'Svetloye (pivo)?'\n",
    "print_re_search(p_string='Svetloye solntce', p_pattern=l_pattern)\n",
    "print_re_search(p_string='Svetloye ', p_pattern=l_pattern)\n",
    "print_re_search(p_string='Svetloye pivo', p_pattern=l_pattern)\n"
   ]
  },
  {
   "cell_type": "code",
   "execution_count": 9,
   "id": "500b40bd",
   "metadata": {},
   "outputs": [
    {
     "name": "stdout",
     "output_type": "stream",
     "text": [
      "\n",
      "* vs *?\n",
      "\n",
      "Строка: aabbcc\n",
      "Паттерн: ^a*\n",
      "Объект поиска: <re.Match object; span=(0, 2), match='aa'>\n",
      "\n",
      "Строка: aabbcc\n",
      "Паттерн: ^a*?\n",
      "Объект поиска: <re.Match object; span=(0, 0), match=''>\n",
      "\n",
      "+ vs +?\n",
      "\n",
      "Строка: aaaaaaabc\n",
      "Паттерн: ^a+\n",
      "Объект поиска: <re.Match object; span=(0, 7), match='aaaaaaa'>\n",
      "\n",
      "Строка: aaaaaaabc\n",
      "Паттерн: ^a+?\n",
      "Объект поиска: <re.Match object; span=(0, 1), match='a'>\n",
      "\n",
      "? vs ??\n",
      "\n",
      "Строка: aabc\n",
      "Паттерн: ^a?\n",
      "Объект поиска: <re.Match object; span=(0, 1), match='a'>\n",
      "\n",
      "Строка: aabc\n",
      "Паттерн: ^a??\n",
      "Объект поиска: <re.Match object; span=(0, 0), match=''>\n"
     ]
    },
    {
     "data": {
      "text/plain": [
       "<re.Match object; span=(0, 0), match=''>"
      ]
     },
     "execution_count": 9,
     "metadata": {},
     "output_type": "execute_result"
    }
   ],
   "source": [
    "# Жадные vs щедрые квантификаторы \n",
    "\n",
    "# *, +, ? - жадины \n",
    "# *?, +?, ?? - меценаты \n",
    "\n",
    "print(\"\\n* vs *?\")\n",
    "l_str = \"aabbcc\"\n",
    "print_re_search(p_string=l_str, p_pattern='^a*')\n",
    "print_re_search(p_string=l_str, p_pattern='^a*?')\n",
    "\n",
    "print(\"\\n+ vs +?\")\n",
    "l_str = \"aaaaaaabc\"\n",
    "print_re_search(p_string=l_str, p_pattern='^a+')\n",
    "print_re_search(p_string=l_str, p_pattern='^a+?')\n",
    "\n",
    "print(\"\\n? vs ??\")\n",
    "l_str = \"aabc\"\n",
    "print_re_search(p_string=l_str, p_pattern=\"^a?\")\n",
    "print_re_search(p_string=l_str, p_pattern=\"^a??\")\n"
   ]
  },
  {
   "cell_type": "code",
   "execution_count": 10,
   "id": "63a705ab",
   "metadata": {},
   "outputs": [
    {
     "name": "stdout",
     "output_type": "stream",
     "text": [
      "\n",
      "Строка: xyzxyzxyz\n",
      "Паттерн: (xyz){2}$\n",
      "Объект поиска: None\n",
      "\n",
      "Строка: xyzxyzxyz\n",
      "Паттерн: (xyz){3}$\n",
      "Объект поиска: <re.Match object; span=(0, 9), match='xyzxyzxyz'>\n"
     ]
    }
   ],
   "source": [
    "# Точное количество повторений \n",
    "\n",
    "# {m} - повторись ровно m раз \n",
    "\n",
    "l_str = \"xyzxyzxyz\"\n",
    "print_re_match(p_string=l_str, p_pattern=\"(xyz){2}$\")\n",
    "print_re_match(p_string=l_str, p_pattern=\"(xyz){3}$\")\n"
   ]
  },
  {
   "cell_type": "code",
   "execution_count": 11,
   "id": "443c1684",
   "metadata": {},
   "outputs": [
    {
     "name": "stdout",
     "output_type": "stream",
     "text": [
      "\n",
      "Строка: фафафафа\n",
      "Паттерн: (фа){1,3}\n",
      "Объект поиска: <re.Match object; span=(0, 6), match='фафафа'>\n",
      "\n",
      "Строка: фафафафа\n",
      "Паттерн: (гы){,3}\n",
      "Объект поиска: <re.Match object; span=(0, 0), match=''>\n",
      "\n",
      "Строка: фафафафа\n",
      "Паттерн: (фа){0,}\n",
      "Объект поиска: <re.Match object; span=(0, 8), match='фафафафа'>\n",
      "\n",
      "Строка: фафафафа\n",
      "Паттерн: (фа){1,4}?\n",
      "Объект поиска: <re.Match object; span=(0, 2), match='фа'>\n"
     ]
    },
    {
     "data": {
      "text/plain": [
       "<re.Match object; span=(0, 2), match='фа'>"
      ]
     },
     "execution_count": 11,
     "metadata": {},
     "output_type": "execute_result"
    }
   ],
   "source": [
    "# Приблизительное количество повторений \n",
    "\n",
    "# {m,n} - повторись от m до n раз включиительно\n",
    "# {,n} - повторись от 0 до n раз включительно \n",
    "# {m,} - повторись от m до inf+ раз включительно \n",
    "# {m,n}? - совпади по наименьшему возможному количеству символов\n",
    "\n",
    "l_str = \"фафафафа\"\n",
    "print_re_search(p_string=l_str, p_pattern=\"(фа){1,3}\")\n",
    "print_re_search(p_string=l_str, p_pattern=\"(гы){,3}\")\n",
    "print_re_search(p_string=l_str, p_pattern=\"(фа){0,}\")\n",
    "print_re_search(p_string=l_str, p_pattern=\"(фа){1,4}?\")\n"
   ]
  },
  {
   "cell_type": "code",
   "execution_count": 12,
   "id": "d323769b",
   "metadata": {},
   "outputs": [
    {
     "name": "stdout",
     "output_type": "stream",
     "text": [
      "\n",
      "Строка: \\d\n",
      "Паттерн: \\d\n",
      "Объект поиска: None\n",
      "\n",
      "Строка: \\d\n",
      "Паттерн: \\\\d\n",
      "Объект поиска: <re.Match object; span=(0, 2), match='\\\\d'>\n",
      "\n",
      "Строка: \\d\n",
      "Паттерн: \\\\d\n",
      "Объект поиска: <re.Match object; span=(0, 2), match='\\\\d'>\n"
     ]
    },
    {
     "data": {
      "text/plain": [
       "<re.Match object; span=(0, 2), match='\\\\d'>"
      ]
     },
     "execution_count": 12,
     "metadata": {},
     "output_type": "execute_result"
    }
   ],
   "source": [
    "# \\ - для экранирования \n",
    "\n",
    "l_str = \"\\d\"\n",
    "print_re_search(p_string=l_str, p_pattern=\"\\d\")\n",
    "print_re_search(p_string=l_str, p_pattern=\"\\\\\\\\d\")\n",
    "print_re_search(p_string=l_str, p_pattern=r\"\\\\d\")\n"
   ]
  },
  {
   "cell_type": "code",
   "execution_count": 13,
   "id": "5b8e852d",
   "metadata": {},
   "outputs": [
    {
     "name": "stdout",
     "output_type": "stream",
     "text": [
      "\n",
      "Строка: a4?\n",
      "Паттерн: [abc][246][*-+?]\n",
      "Объект поиска: <re.Match object; span=(0, 3), match='a4?'>\n",
      "\n",
      "Строка: b2-\n",
      "Паттерн: [abc][246][*-+?]\n",
      "Объект поиска: None\n",
      "\n",
      "Строка: c6*\n",
      "Паттерн: [abc][246][*-+?]\n",
      "Объект поиска: <re.Match object; span=(0, 3), match='c6*'>\n",
      "\n",
      "Строка: cB17\n",
      "Паттерн: [b-x][A-I][0-5][6-9]\n",
      "Объект поиска: <re.Match object; span=(0, 4), match='cB17'>\n",
      "\n",
      "Строка: aZ60\n",
      "Паттерн: [b-x][A-I][0-5][6-9]\n",
      "Объект поиска: None\n",
      "\n",
      "Строка: .*+?{}[]\\\n",
      "Паттерн: [.*+?{}\\[\\]\\\\]+\n",
      "Объект поиска: <re.Match object; span=(0, 9), match='.*+?{}[]\\\\'>\n",
      "\n",
      "Строка: 19\n",
      "Паттерн: [^2468][^^]\n",
      "Объект поиска: <re.Match object; span=(0, 2), match='19'>\n",
      "\n",
      "Строка: 1^\n",
      "Паттерн: [^2468][^^]\n",
      "Объект поиска: None\n",
      "\n",
      "Строка: ^\n",
      "Паттерн: [a^]\n",
      "Объект поиска: <re.Match object; span=(0, 1), match='^'>\n"
     ]
    },
    {
     "data": {
      "text/plain": [
       "<re.Match object; span=(0, 1), match='^'>"
      ]
     },
     "execution_count": 13,
     "metadata": {},
     "output_type": "execute_result"
    }
   ],
   "source": [
    "# [] - совпадение по одному из символов \n",
    "# [^] - если ^ первая, то совпадение по любому символу, кроме указанных\n",
    "# * не должна быть последней в группе\n",
    "# нужно экранировать квадратные скобки, если по ним нужно совпадение\n",
    "\n",
    "# Совпадение по любому из перечисленных символов \n",
    "l_pattern = \"[abc][246][*-+?]\"\n",
    "print_re_search(p_string=\"a4?\", p_pattern=l_pattern)\n",
    "print_re_search(p_string=\"b2-\", p_pattern=l_pattern)\n",
    "print_re_search(p_string=\"c6*\", p_pattern=l_pattern)\n",
    "\n",
    "# Можно указать диапазон, если символы следуют друг за другом \n",
    "l_pattern = \"[b-x][A-I][0-5][6-9]\"\n",
    "print_re_search(p_string=\"cB17\", p_pattern=l_pattern)\n",
    "print_re_search(p_string=\"aZ60\", p_pattern=l_pattern)\n",
    "\n",
    "# Не нужно экранировать спецсимволы - \n",
    "# не удалось сделать ничего с звездочкой в конце кроме перестановки\n",
    "# квадратные скобки надо экранировать \n",
    "# в строке, если нужен обратный слеш - его надо экранировать\n",
    "# то же самое необходимо сделать в r'..', если без r - то четыре обратных слеша\n",
    "l_pattern = r\"[.*+?{}\\[\\]\\\\]+\"\n",
    "print_re_search(p_string=\".*+?{}[]\\\\\", p_pattern=l_pattern)\n",
    "\n",
    "# Любые символы, кроме указанных\n",
    "l_pattern = \"[^2468][^^]\"\n",
    "print_re_search(p_string=\"19\", p_pattern=l_pattern)\n",
    "print_re_search(p_string=\"1^\", p_pattern=l_pattern)\n",
    "\n",
    "# Возникает вопрос, а если необходимо найти совпадение по ^ и еще какому-нибудь символу\n",
    "# Тогда - ^ не должен идти первым \n",
    "l_pattern = \"[a^]\"\n",
    "print_re_search(p_string=\"^\", p_pattern=l_pattern)\n"
   ]
  },
  {
   "cell_type": "code",
   "execution_count": 14,
   "id": "dd9122b7",
   "metadata": {},
   "outputs": [
    {
     "name": "stdout",
     "output_type": "stream",
     "text": [
      "\n",
      "Строка: abc\n",
      "Паттерн: abc|def\n",
      "Объект поиска: <re.Match object; span=(0, 3), match='abc'>\n",
      "\n",
      "Строка: def\n",
      "Паттерн: abc|def\n",
      "Объект поиска: <re.Match object; span=(0, 3), match='def'>\n",
      "\n",
      "Строка: |\n",
      "Паттерн: \\|\n",
      "Объект поиска: <re.Match object; span=(0, 1), match='|'>\n"
     ]
    },
    {
     "data": {
      "text/plain": [
       "<re.Match object; span=(0, 1), match='|'>"
      ]
     },
     "execution_count": 14,
     "metadata": {},
     "output_type": "execute_result"
    }
   ],
   "source": [
    "# Метасимволы \n",
    "# | - типа или - выбрать одно из совпадений \n",
    "\n",
    "l_pattern = \"abc|def\"\n",
    "print_re_search(p_string=\"abc\", p_pattern=l_pattern)\n",
    "print_re_search(p_string=\"def\", p_pattern=l_pattern)\n",
    "\n",
    "# Этот символ надо экранировать, если нужно найти совпадение по вертикальной черте\n",
    "l_pattern = r\"\\|\"\n",
    "print_re_search(p_string=\"|\", p_pattern=l_pattern)\n"
   ]
  },
  {
   "cell_type": "code",
   "execution_count": 15,
   "id": "b467397f",
   "metadata": {},
   "outputs": [
    {
     "name": "stdout",
     "output_type": "stream",
     "text": [
      "\n",
      "Строка: 200-Ivan-...\n",
      "Паттерн: ^(\\d+)-([a-zA-Z]+)-(\\.+)\n",
      "Объект поиска: <re.Match object; span=(0, 12), match='200-Ivan-...'>\n",
      "Группа 1: 200\n",
      "Группа 2: Ivan\n",
      "Группа 3: ...\n"
     ]
    }
   ],
   "source": [
    "# Метасимволы \n",
    "# (...) - группа\n",
    "\n",
    "# К группе можно обращаться и получать части строки, которым она соответствует\n",
    "l_pattern = r\"^(\\d+)-([a-zA-Z]+)-(\\.+)\"\n",
    "l_result = print_re_search(p_string=\"200-Ivan-...\", p_pattern=l_pattern)\n"
   ]
  },
  {
   "cell_type": "code",
   "execution_count": 16,
   "id": "cd68c31f",
   "metadata": {},
   "outputs": [
    {
     "name": "stdout",
     "output_type": "stream",
     "text": [
      "\n",
      "Строка: abc\n",
      "Паттерн: (?a)\\w{3}\n",
      "Объект поиска: <re.Match object; span=(0, 3), match='abc'>\n",
      "\n",
      "Строка: абв\n",
      "Паттерн: (?a)\\w{3}\n",
      "Объект поиска: None\n",
      "\n",
      "Строка: АБВ\n",
      "Паттерн: абв\n",
      "Объект поиска: None\n",
      "\n",
      "Строка: АБВ\n",
      "Паттерн: (?i)абв\n",
      "Объект поиска: <re.Match object; span=(0, 3), match='АБВ'>\n",
      "\n",
      "Строка: Winter is good!\n",
      "Winter is awesome!\n",
      "Winter is gorgeous\n",
      "Паттерн: ^Winter\n",
      "Результат разделения: ['', ' is good!\\nWinter is awesome!\\nWinter is gorgeous']\n",
      "\n",
      "Строка: Winter is good!\n",
      "Winter is awesome!\n",
      "Winter is gorgeous\n",
      "Паттерн: (?m)^Winter\n",
      "Результат разделения: ['', ' is good!\\n', ' is awesome!\\n', ' is gorgeous']\n",
      "\n",
      "Строка: \n",
      "\n",
      "\n",
      "\n",
      "Паттерн: .\n",
      "Результат разделения: ['\\n\\n\\n']\n",
      "\n",
      "Строка: \n",
      "\n",
      "\n",
      "\n",
      "Паттерн: (?s).\n",
      "Результат разделения: ['', '', '', '']\n",
      "\n",
      "Строка: güt это good!\n",
      "Паттерн: \\w+\n",
      "Объект поиска: <re.Match object; span=(0, 3), match='güt'>\n",
      "\n",
      "Строка: güt это good!\n",
      "Паттерн: (?a)\\w+\n",
      "Объект поиска: <re.Match object; span=(0, 1), match='g'>\n",
      "\n",
      "Строка: güt это good!\n",
      "Паттерн: (?u)\\w+\n",
      "Объект поиска: <re.Match object; span=(0, 3), match='güt'>\n",
      "\n",
      "Строка: IloveCloveEloveD\n",
      "Паттерн: (?x)\n",
      "        l # первая буква\n",
      "        o # вторая буква\n",
      "        v # третья буква\n",
      "        e # четвертая буква\n",
      "    \n",
      "Результат разделения: ['I', 'C', 'E', 'D']\n",
      "\n",
      "Строка: IloveCloveEloveD\n",
      "Паттерн: \n",
      "        l # первая буква\n",
      "        o # вторая буква\n",
      "        v # третья буква\n",
      "        e # четвертая буква\n",
      "    \n",
      "Результат разделения: ['IloveCloveEloveD']\n"
     ]
    }
   ],
   "source": [
    "# Флаги в группе - прокрашивает паттерн определенным флагом\n",
    "# (?aiLmsux)\n",
    "\n",
    "# 'a' - совпадение только по кодировке ASCII\n",
    "print_re_search(p_string=\"abc\", p_pattern=\"(?a)\\w{3}\")\n",
    "print_re_search(p_string=\"абв\", p_pattern=\"(?a)\\w{3}\")\n",
    "\n",
    "# 'i' - игнорировать регистр \n",
    "print_re_search(p_string=\"АБВ\", p_pattern=\"абв\")\n",
    "print_re_search(p_string=\"АБВ\", p_pattern=\"(?i)абв\")\n",
    "\n",
    "# 'L' - зависимость от локали \n",
    "\"\"\"\n",
    "Я пытался найти пример использования этого флага, и наткнулся на следующий тред:\n",
    "https://stackoverflow.com/questions/12240260/umlauts-in-regexp-matching-via-locale\n",
    "\n",
    "re.LOCALE just passes the character to the underlying C library. \n",
    "It really only works on bytestrings which have 1 byte per character. \n",
    "UTF-8 encodes codepoints outside the ASCII range to multiple bytes per codepoint, \n",
    "and the re module will treat each of those bytes as a separate character.\n",
    "\n",
    "И еще одна вдохновляющая цитата, из-за которой я смело пропускаю этот пример\n",
    "I think this stinking re.LOCALE flag should be removed from the documentation and never mentioned. \n",
    "It is a fake, hypocrisy and a trap for the person coding in a hurry.\n",
    "\"\"\"\n",
    "\n",
    "# 'm' - мультистроковый режим \n",
    "print_re_split(p_string=\"Winter is good!\\nWinter is awesome!\\nWinter is gorgeous\", p_pattern=\"^Winter\")\n",
    "print_re_split(p_string=\"Winter is good!\\nWinter is awesome!\\nWinter is gorgeous\", p_pattern=\"(?m)^Winter\")\n",
    "\n",
    "# 's' - . совпадает с новой строкой\n",
    "print_re_split(p_string=\"\\n\\n\\n\", p_pattern=\".\")\n",
    "print_re_split(p_string=\"\\n\\n\\n\", p_pattern=\"(?s).\")\n",
    "\n",
    "# 'u' - совпадение с unicode \n",
    "print_re_search(p_string=\"güt это good!\", p_pattern=\"\\w+\")\n",
    "print_re_search(p_string=\"güt это good!\", p_pattern=\"(?a)\\w+\")\n",
    "# Тяжело найти пример, тк в Юникоде есть практически все символы \n",
    "# + по умолчанию кодировка - UTF8, так что в этом флаге отпадает смысл\n",
    "print_re_search(p_string=\"güt это good!\", p_pattern=\"(?u)\\w+\")\n",
    "\n",
    "# 'x' - позволяет красиво писать паттерн регулярного выражения и прямо в литерале оставлять комментарии\n",
    "# но, на момент времени 22.12.2021 - дает DeprecationWarning, если флаг не в начале паттерна\n",
    "print_re_split(\n",
    "    p_string=\"IloveCloveEloveD\", \n",
    "    p_pattern=\"\"\"(?x)\n",
    "        l # первая буква\n",
    "        o # вторая буква\n",
    "        v # третья буква\n",
    "        e # четвертая буква\n",
    "    \"\"\"\n",
    ")\n",
    "\n",
    "print_re_split(\n",
    "    p_string=\"IloveCloveEloveD\", \n",
    "    p_pattern=\"\"\"\n",
    "        l # первая буква\n",
    "        o # вторая буква\n",
    "        v # третья буква\n",
    "        e # четвертая буква\n",
    "    \"\"\"\n",
    ")"
   ]
  },
  {
   "cell_type": "code",
   "execution_count": 17,
   "id": "17e6e914",
   "metadata": {},
   "outputs": [
    {
     "name": "stdout",
     "output_type": "stream",
     "text": [
      "\n",
      "Строка: Легендарный концерт: Жока и Бока\n",
      "Паттерн: (Жока).+(Бока)\n",
      "Объект поиска: <re.Match object; span=(21, 32), match='Жока и Бока'>\n",
      "Группа 1: Жока\n",
      "Группа 2: Бока\n",
      "\n",
      "Строка: Легендарный концерт: Жока и Бока\n",
      "Паттерн: (?:Жока).+(?:Бока)\n",
      "Объект поиска: <re.Match object; span=(21, 32), match='Жока и Бока'>\n"
     ]
    },
    {
     "data": {
      "text/plain": [
       "<re.Match object; span=(21, 32), match='Жока и Бока'>"
      ]
     },
     "execution_count": 17,
     "metadata": {},
     "output_type": "execute_result"
    }
   ],
   "source": [
    "# (?:...) - группа, но не попадает в память при совпадении\n",
    "print_re_search(p_string=\"Легендарный концерт: Жока и Бока\", p_pattern=\"(Жока).+(Бока)\")\n",
    "print_re_search(p_string=\"Легендарный концерт: Жока и Бока\", p_pattern=\"(?:Жока).+(?:Бока)\")"
   ]
  },
  {
   "cell_type": "code",
   "execution_count": 18,
   "id": "273f47bd",
   "metadata": {},
   "outputs": [
    {
     "name": "stdout",
     "output_type": "stream",
     "text": [
      "\n",
      "Строка: Simon and Garfunkel\n",
      "Паттерн: (?i)simon aNd GARFUNKEL\n",
      "Объект поиска: <re.Match object; span=(0, 19), match='Simon and Garfunkel'>\n",
      "\n",
      "Строка: Simon and Garfunkel\n",
      "Паттерн: (?i)simon and (?-i:GARFUNKEL)\n",
      "Объект поиска: None\n"
     ]
    }
   ],
   "source": [
    "# (?aiLmsux-imsx:...) - включение и отключение флагов\n",
    "print_re_search(p_string=\"Simon and Garfunkel\", p_pattern=\"(?i)simon aNd GARFUNKEL\")\n",
    "# А вот тут не совпадет - для каждой из групп можно задавать свои флаги \n",
    "print_re_search(p_string=\"Simon and Garfunkel\", p_pattern=\"(?i)simon and (?-i:GARFUNKEL)\")"
   ]
  },
  {
   "cell_type": "code",
   "execution_count": 19,
   "id": "f36b8482",
   "metadata": {},
   "outputs": [
    {
     "name": "stdout",
     "output_type": "stream",
     "text": [
      "\n",
      "Строка: My bonnie flies over the ocean\n",
      "Паттерн: (?P<first_word>\\w+) (?P<second_word>\\w+)\n",
      "Объект поиска: <re.Match object; span=(0, 9), match='My bonnie'>\n",
      "Группа 1: My\n",
      "Группа 2: bonnie\n",
      "\n",
      "Строка: Ding Ding Ding\n",
      "Паттерн: (?P<first_word>\\w+) (?P=first_word)\n",
      "Объект поиска: <re.Match object; span=(0, 9), match='Ding Ding'>\n",
      "\n",
      "Строка: Ding Ding Ding\n",
      "Паттерн: (?P<first_word>\\w+) \\1\n",
      "Объект поиска: <re.Match object; span=(0, 9), match='Ding Ding'>\n",
      "\n",
      "Строка: Ding Ding Ding\n",
      "Паттерн: (?P<first_word>\\w+) \u0001\n",
      "Объект поиска: None\n",
      "\n",
      "Строка: Hello Darkness\n",
      "Паттерн: (?P<first_word>\\w+) (?P=first_word)\n",
      "Объект поиска: None\n",
      "\n",
      "Строка: My bonnie flies over the ocean\n",
      "Паттерн: (?P<first_word>\\w+) (?P<second_word>\\w+)\n",
      "Объект поиска: <re.Match object; span=(0, 9), match='My bonnie'>\n",
      "Группа 1: My\n",
      "Группа 2: bonnie\n",
      "My\n",
      "bonnie\n",
      "My My My bonnie flies flies flies over the the the ocean\n"
     ]
    }
   ],
   "source": [
    "# (?P<name>) - как и обычная группа (...), но позволяет получать группу по заданному имени \n",
    "# Работает в 3-х контекстах \n",
    "l_string = \"My bonnie flies over the ocean\"\n",
    "l_pattern = \"(?P<first_word>\\w+) (?P<second_word>\\w+)\"\n",
    "print_re_search(p_string=l_string, p_pattern=l_pattern)\n",
    "\n",
    "# 1.Внутри паттерна \n",
    "l_string = \"Ding Ding Ding\"\n",
    "# Интересный нюанс, если обращаться к группе внутри паттерна, то требуется полное совпадение \n",
    "print_re_search(p_string=l_string, p_pattern=\"(?P<first_word>\\w+) (?P=first_word)\")\n",
    "\n",
    "# Без raw string - не работает\n",
    "print_re_search(p_string=l_string, p_pattern=r\"(?P<first_word>\\w+) \\1\")\n",
    "print_re_search(p_string=l_string, p_pattern=\"(?P<first_word>\\w+) \\1\")\n",
    "\n",
    "l_string = \"Hello Darkness\"\n",
    "print_re_search(p_string=l_string, p_pattern=\"(?P<first_word>\\w+) (?P=first_word)\")\n",
    "\n",
    "# 2.Внутри объекта совпадения\n",
    "l_string = \"My bonnie flies over the ocean\"\n",
    "l_pattern = \"(?P<first_word>\\w+) (?P<second_word>\\w+)\"\n",
    "l_result = print_re_search(p_string=l_string, p_pattern=l_pattern)\n",
    "print(l_result.group(\"first_word\"))\n",
    "print(l_result.group(\"second_word\"))\n",
    "\n",
    "# 3.В строке, переданной как аргумент в repl у re.sub()\n",
    "# re.sub(pattern, repl, string, count=0, flags=0)\n",
    "l_result = re.sub(\n",
    "    pattern=\"(?P<first_word>\\w+) (?P<second_word>\\w+)\",\n",
    "    repl=r\"\\g<first_word> \\g<1> \\1 \\2\",\n",
    "    string=\"My bonnie flies over the ocean\"\n",
    ")\n",
    "print(l_result)"
   ]
  },
  {
   "cell_type": "code",
   "execution_count": 20,
   "id": "93f510ae",
   "metadata": {},
   "outputs": [
    {
     "name": "stdout",
     "output_type": "stream",
     "text": [
      "\n",
      "Строка: Hello Zepp\n",
      "Паттерн: (?P<word>\\w+) (?P=word)\n",
      "Объект поиска: None\n",
      "\n",
      "Строка: Hello Hello\n",
      "Паттерн: (?P<word>\\w+) (?P=word)\n",
      "Объект поиска: <re.Match object; span=(0, 11), match='Hello Hello'>\n"
     ]
    },
    {
     "data": {
      "text/plain": [
       "<re.Match object; span=(0, 11), match='Hello Hello'>"
      ]
     },
     "execution_count": 20,
     "metadata": {},
     "output_type": "execute_result"
    }
   ],
   "source": [
    "# (?P=name) \n",
    "# Обращение к именованной группе, заданной ранее - здесь есть нюанс: \n",
    "# Последовательность символов должна полностью совпадать с именованной группой \n",
    "\n",
    "print_re_search(p_string=\"Hello Zepp\", p_pattern=\"(?P<word>\\w+) (?P=word)\")\n",
    "print_re_search(p_string=\"Hello Hello\", p_pattern=\"(?P<word>\\w+) (?P=word)\")"
   ]
  },
  {
   "cell_type": "code",
   "execution_count": 21,
   "id": "d97be3cc",
   "metadata": {},
   "outputs": [
    {
     "name": "stdout",
     "output_type": "stream",
     "text": [
      "\n",
      "Строка: (?#Comment)\n",
      "Паттерн: (?#Comment)\n",
      "Объект поиска: <re.Match object; span=(0, 0), match=''>\n",
      "\n",
      "Строка: (?#Comment)\n",
      "Паттерн: (?#Comment)\\(\\?#Comment\\)\n",
      "Объект поиска: <re.Match object; span=(0, 11), match='(?#Comment)'>\n"
     ]
    },
    {
     "data": {
      "text/plain": [
       "<re.Match object; span=(0, 11), match='(?#Comment)'>"
      ]
     },
     "execution_count": 21,
     "metadata": {},
     "output_type": "execute_result"
    }
   ],
   "source": [
    "# (?#...)\n",
    "# Просто комментарий \n",
    "\n",
    "print_re_search(p_string=\"(?#Comment)\", p_pattern=\"(?#Comment)\")\n",
    "print_re_search(p_string=\"(?#Comment)\", p_pattern=\"(?#Comment)\\(\\?#Comment\\)\")\n"
   ]
  },
  {
   "cell_type": "code",
   "execution_count": 22,
   "id": "e1108083",
   "metadata": {},
   "outputs": [
    {
     "name": "stdout",
     "output_type": "stream",
     "text": [
      "\n",
      "Строка: Александр Пушкин\n",
      "Паттерн: Александр (?=Пушкин)\n",
      "Объект поиска: <re.Match object; span=(0, 10), match='Александр '>\n"
     ]
    },
    {
     "data": {
      "text/plain": [
       "<re.Match object; span=(0, 10), match='Александр '>"
      ]
     },
     "execution_count": 22,
     "metadata": {},
     "output_type": "execute_result"
    }
   ],
   "source": [
    "# (?=...)\n",
    "# Опережающее предположение - ищет совпадение по группе, если находит, то не забирает эти символы\n",
    "\n",
    "print_re_search(p_string=\"Александр Пушкин\", p_pattern=\"Александр (?=Пушкин)\")"
   ]
  },
  {
   "cell_type": "code",
   "execution_count": 23,
   "id": "696f2005",
   "metadata": {},
   "outputs": [
    {
     "name": "stdout",
     "output_type": "stream",
     "text": [
      "\n",
      "Строка: Александр Пистолетов\n",
      "Паттерн: Александр (?!Пистолетов)\n",
      "Объект поиска: None\n",
      "\n",
      "Строка: Александр Пушкин\n",
      "Паттерн: Александр (?!Пистолетов)\n",
      "Объект поиска: <re.Match object; span=(0, 10), match='Александр '>\n"
     ]
    },
    {
     "data": {
      "text/plain": [
       "<re.Match object; span=(0, 10), match='Александр '>"
      ]
     },
     "execution_count": 23,
     "metadata": {},
     "output_type": "execute_result"
    }
   ],
   "source": [
    "# (?!...)\n",
    "# Негативное опережающее предположение - отсутствие совпадения по группе, если верно, то не забирает эти символы \n",
    "\n",
    "print_re_search(p_string=\"Александр Пистолетов\", p_pattern=\"Александр (?!Пистолетов)\")\n",
    "print_re_search(p_string=\"Александр Пушкин\", p_pattern=\"Александр (?!Пистолетов)\")"
   ]
  },
  {
   "cell_type": "code",
   "execution_count": 24,
   "id": "23e4a260",
   "metadata": {},
   "outputs": [
    {
     "name": "stdout",
     "output_type": "stream",
     "text": [
      "\n",
      "Строка: abcdef\n",
      "Паттерн: (?=abc)def\n",
      "Объект поиска: None\n",
      "\n",
      "Строка: abcdef\n",
      "Паттерн: (?<=abc)def\n",
      "Объект поиска: <re.Match object; span=(3, 6), match='def'>\n",
      "\n",
      "Строка: abcdef\n",
      "Паттерн: abc(?<=def)\n",
      "Объект поиска: None\n",
      "\n",
      "Строка: abcdef\n",
      "Паттерн: abc(?=def)\n",
      "Объект поиска: <re.Match object; span=(0, 3), match='abc'>\n",
      "\n",
      "Строка: abcdef\n",
      "Паттерн: abc(?=de)f\n",
      "Объект поиска: None\n",
      "\n",
      "Строка: abcdef\n",
      "Паттерн: a(?<=bc)def\n",
      "Объект поиска: None\n"
     ]
    }
   ],
   "source": [
    "# (?<=...)\n",
    "# Положительное ретроспективное предположение\n",
    "\n",
    "# Должно находиться строго в начале\n",
    "print_re_search(p_string=\"abcdef\", p_pattern=\"(?=abc)def\")\n",
    "print_re_search(p_string=\"abcdef\", p_pattern=\"(?<=abc)def\")\n",
    "\n",
    "# Должно находиться строго в конце\n",
    "print_re_search(p_string=\"abcdef\", p_pattern=\"abc(?<=def)\")\n",
    "print_re_search(p_string=\"abcdef\", p_pattern=\"abc(?=def)\")\n",
    "\n",
    "# Контрпримеры, показывающие, что применение выражения \n",
    "# должно находиться строго в определенной позиции \n",
    "print_re_search(p_string=\"abcdef\", p_pattern=\"abc(?=de)f\")\n",
    "print_re_search(p_string=\"abcdef\", p_pattern=\"a(?<=bc)def\")\n"
   ]
  },
  {
   "cell_type": "code",
   "execution_count": 25,
   "id": "02266eba",
   "metadata": {},
   "outputs": [
    {
     "name": "stdout",
     "output_type": "stream",
     "text": [
      "\n",
      "Строка: abcdef\n",
      "Паттерн: (?<!abc)def\n",
      "Объект поиска: None\n",
      "\n",
      "Строка: abcdef\n",
      "Паттерн: (?<!def)def\n",
      "Объект поиска: <re.Match object; span=(3, 6), match='def'>\n",
      "\n",
      "Строка: abcdef\n",
      "Паттерн: abc(?<!ff)f\n",
      "Объект поиска: None\n"
     ]
    }
   ],
   "source": [
    "# (?<!...)\n",
    "# Негативное ретроспективное предположение \n",
    "# Тоже должно быть строго в начале \n",
    "\n",
    "print_re_search(p_string=\"abcdef\", p_pattern=\"(?<!abc)def\")\n",
    "print_re_search(p_string=\"abcdef\", p_pattern=\"(?<!def)def\")\n",
    "print_re_search(p_string=\"abcdef\", p_pattern=\"abc(?<!ff)f\")"
   ]
  },
  {
   "cell_type": "code",
   "execution_count": 26,
   "id": "cc0bd954",
   "metadata": {},
   "outputs": [
    {
     "name": "stdout",
     "output_type": "stream",
     "text": [
      "\n",
      "Строка: <word>\n",
      "Паттерн: (<)?(\\w+)(?(1)>|$)\n",
      "Объект поиска: <re.Match object; span=(0, 6), match='<word>'>\n",
      "Группа 1: <\n",
      "Группа 2: word\n",
      "\n",
      "Строка: word\n",
      "Паттерн: (<)?(\\w+)(?(1)>|$)\n",
      "Объект поиска: <re.Match object; span=(0, 4), match='word'>\n",
      "Группа 1: None\n",
      "Группа 2: word\n"
     ]
    },
    {
     "data": {
      "text/plain": [
       "<re.Match object; span=(0, 4), match='word'>"
      ]
     },
     "execution_count": 26,
     "metadata": {},
     "output_type": "execute_result"
    }
   ],
   "source": [
    "# (?(id/name)yes-pattern|no-pattern)\n",
    "# Кое-как понял и разобрался исходя из примеров - очень маловероятно, что буду использовать\n",
    "\n",
    "print_re_search(p_string=\"<word>\", p_pattern=\"(<)?(\\w+)(?(1)>|$)\")\n",
    "print_re_search(p_string=\"word\", p_pattern=\"(<)?(\\w+)(?(1)>|$)\")\n"
   ]
  },
  {
   "cell_type": "code",
   "execution_count": 27,
   "id": "e164102f",
   "metadata": {},
   "outputs": [
    {
     "name": "stdout",
     "output_type": "stream",
     "text": [
      "\n",
      "Строка: a a b b c c\n",
      "Паттерн: (a) \\1 (b) \\2 (c) \\3\n",
      "Объект поиска: <re.Match object; span=(0, 11), match='a a b b c c'>\n",
      "Группа 1: a\n",
      "Группа 2: b\n",
      "Группа 3: c\n"
     ]
    },
    {
     "data": {
      "text/plain": [
       "<re.Match object; span=(0, 11), match='a a b b c c'>"
      ]
     },
     "execution_count": 27,
     "metadata": {},
     "output_type": "execute_result"
    }
   ],
   "source": [
    "\"\"\"\n",
    "    Специальные символы (метасимволы)\n",
    "\"\"\"\n",
    "# \\number - порядковый номер группы в паттерне, по которому ищется совпадение \n",
    "# Не забывать использовать raw string notation - иначе номерные группы не читаются \n",
    "print_re_search(p_string=\"a a b b c c\", p_pattern=r\"(a) \\1 (b) \\2 (c) \\3\")"
   ]
  },
  {
   "cell_type": "code",
   "execution_count": 28,
   "id": "0a6291b9",
   "metadata": {},
   "outputs": [
    {
     "name": "stdout",
     "output_type": "stream",
     "text": [
      "\n",
      "Строка: Start of string\n",
      "Паттерн: \\A\\w{3}\n",
      "Объект поиска: <re.Match object; span=(0, 3), match='Sta'>\n"
     ]
    },
    {
     "data": {
      "text/plain": [
       "<re.Match object; span=(0, 3), match='Sta'>"
      ]
     },
     "execution_count": 28,
     "metadata": {},
     "output_type": "execute_result"
    }
   ],
   "source": [
    "# \\A - совпадение со стартом строки \n",
    "print_re_search(p_string=\"Start of string\", p_pattern=r\"\\A\\w{3}\")"
   ]
  },
  {
   "cell_type": "code",
   "execution_count": 29,
   "id": "c2b683a2",
   "metadata": {},
   "outputs": [
    {
     "name": "stdout",
     "output_type": "stream",
     "text": [
      "\n",
      "Строка: Peter\n",
      "Паттерн: \\bPeter\\b\n",
      "Объект поиска: <re.Match object; span=(0, 5), match='Peter'>\n",
      "\n",
      "Строка: PeterPan\n",
      "Паттерн: \\bPeter\\b\n",
      "Объект поиска: None\n"
     ]
    }
   ],
   "source": [
    "# \\b - пустая строка - символ \"забоя\" - до слова и после слова \n",
    "print_re_search(p_string=\"Peter\", p_pattern=r\"\\bPeter\\b\")\n",
    "print_re_search(p_string=\"PeterPan\", p_pattern=r\"\\bPeter\\b\")"
   ]
  },
  {
   "cell_type": "code",
   "execution_count": 30,
   "id": "8db99049",
   "metadata": {},
   "outputs": [
    {
     "name": "stdout",
     "output_type": "stream",
     "text": [
      "\n",
      "Строка: Peter\n",
      "Паттерн: \\Bete\\B\n",
      "Объект поиска: <re.Match object; span=(1, 4), match='ete'>\n",
      "\n",
      "Строка: Peter\n",
      "Паттерн: \\BPeter\\B\n",
      "Объект поиска: None\n"
     ]
    }
   ],
   "source": [
    "# \\B - совпадает с пустой строкой, когда это не конец и не начало слова \n",
    "# обратное \\b\n",
    "print_re_search(p_string=\"Peter\", p_pattern=r\"\\Bete\\B\")\n",
    "print_re_search(p_string=\"Peter\", p_pattern=r\"\\BPeter\\B\")"
   ]
  },
  {
   "cell_type": "code",
   "execution_count": 31,
   "id": "df27dc71",
   "metadata": {},
   "outputs": [
    {
     "name": "stdout",
     "output_type": "stream",
     "text": [
      "\n",
      "Строка: Happy 2022!\n",
      "Паттерн: \\d{4}\n",
      "Объект поиска: <re.Match object; span=(6, 10), match='2022'>\n"
     ]
    },
    {
     "data": {
      "text/plain": [
       "<re.Match object; span=(6, 10), match='2022'>"
      ]
     },
     "execution_count": 31,
     "metadata": {},
     "output_type": "execute_result"
    }
   ],
   "source": [
    "# \\d - совпадает с любым числовым символом Юникода \n",
    "print_re_search(p_string=\"Happy 2022!\", p_pattern=r\"\\d{4}\")"
   ]
  },
  {
   "cell_type": "code",
   "execution_count": 32,
   "id": "5f8b3dcc",
   "metadata": {},
   "outputs": [
    {
     "name": "stdout",
     "output_type": "stream",
     "text": [
      "\n",
      "Строка: 123 One two three 123\n",
      "Паттерн: \\D+\n",
      "Объект поиска: <re.Match object; span=(3, 18), match=' One two three '>\n"
     ]
    },
    {
     "data": {
      "text/plain": [
       "<re.Match object; span=(3, 18), match=' One two three '>"
      ]
     },
     "execution_count": 32,
     "metadata": {},
     "output_type": "execute_result"
    }
   ],
   "source": [
    "# \\D - противоположность \\d - все то, что не является числовым символом  \n",
    "# Действительно, совпадает со всем, кроме чисел \n",
    "print_re_search(p_string=\"123 One two three 123\", p_pattern=r\"\\D+\")"
   ]
  },
  {
   "cell_type": "code",
   "execution_count": 33,
   "id": "2601fe64",
   "metadata": {},
   "outputs": [
    {
     "name": "stdout",
     "output_type": "stream",
     "text": [
      "\n",
      "Строка: Hello darkness, my all friend!\n",
      "Паттерн: \\s+\n",
      "Результат разделения: ['Hello', 'darkness,', 'my', 'all', 'friend!']\n"
     ]
    }
   ],
   "source": [
    "# \\s - совпадает с любым пробельным символом  \n",
    "# Самые распространенные: горизонтальная табуляция (\\t), новая строка (\\n), \n",
    "# возврат каретки (\\r) - Перемещает позицию печати в крайнее левое положение (исходно — без перевода на следующую строку)\n",
    "# смена страницы (\\f) - form feed - Выбрасывает текущую страницу и начинает печать со следующей\n",
    "# вертикальная табуляция (\\v)\n",
    "\n",
    "print_re_split(p_string=\"Hello darkness, my all friend!\", p_pattern=r\"\\s+\")"
   ]
  },
  {
   "cell_type": "code",
   "execution_count": 34,
   "id": "623bc7fc",
   "metadata": {},
   "outputs": [
    {
     "name": "stdout",
     "output_type": "stream",
     "text": [
      "\n",
      "Строка: \n",
      "\r",
      "\t\u000b",
      "\f",
      " Oh,hi,Mark! \n",
      "\r",
      "\t\u000b",
      "\f",
      "\n",
      "Паттерн: (\\S+)\n",
      "Объект поиска: <re.Match object; span=(6, 17), match='Oh,hi,Mark!'>\n"
     ]
    },
    {
     "data": {
      "text/plain": [
       "<re.Match object; span=(6, 17), match='Oh,hi,Mark!'>"
      ]
     },
     "execution_count": 34,
     "metadata": {},
     "output_type": "execute_result"
    }
   ],
   "source": [
    "# \\S - противоположность \\s - любой символ, кроме пробельного \n",
    "print_re_search(p_string=\"\\n\\r\\t\\v\\f Oh,hi,Mark! \\n\\r\\t\\v\\f\", p_pattern=r\"(\\S+)\")"
   ]
  },
  {
   "cell_type": "code",
   "execution_count": 35,
   "id": "d6142f14",
   "metadata": {},
   "outputs": [
    {
     "name": "stdout",
     "output_type": "stream",
     "text": [
      "\n",
      "Строка: Oh123, hi987, Mark___!\n",
      "Паттерн: (\\w+), (\\w+), (\\w+)!\n",
      "Объект поиска: <re.Match object; span=(0, 22), match='Oh123, hi987, Mark___!'>\n",
      "Группа 1: Oh123\n",
      "Группа 2: hi987\n",
      "Группа 3: Mark___\n"
     ]
    },
    {
     "data": {
      "text/plain": [
       "<re.Match object; span=(0, 22), match='Oh123, hi987, Mark___!'>"
      ]
     },
     "execution_count": 35,
     "metadata": {},
     "output_type": "execute_result"
    }
   ],
   "source": [
    "# \\w - для unicode - все символы, из которых может быть составлено слово, числа и нижнее подчеркивание \n",
    "print_re_search(p_string=\"Oh123, hi987, Mark___!\", p_pattern=r\"(\\w+), (\\w+), (\\w+)!\")"
   ]
  },
  {
   "cell_type": "code",
   "execution_count": 36,
   "id": "3f1f41b5",
   "metadata": {},
   "outputs": [
    {
     "name": "stdout",
     "output_type": "stream",
     "text": [
      "\n",
      "Строка: Oh, hi, Mark!\n",
      "Паттерн: \\W+\n",
      "Результат разделения: ['Oh', 'hi', 'Mark', '']\n"
     ]
    }
   ],
   "source": [
    "# \\W - противоположность \\w - все те символы, из которых нельзя составить слово, не числа, не нижнее подчеркивание \n",
    "print_re_split(p_string=\"Oh, hi, Mark!\", p_pattern=r\"\\W+\")"
   ]
  },
  {
   "cell_type": "code",
   "execution_count": 37,
   "id": "a806711a",
   "metadata": {},
   "outputs": [
    {
     "name": "stdout",
     "output_type": "stream",
     "text": [
      "\n",
      "Строка: This is the end, my beautiful friend\n",
      "Паттерн: \\w+\\Z\n",
      "Объект поиска: <re.Match object; span=(30, 36), match='friend'>\n"
     ]
    },
    {
     "data": {
      "text/plain": [
       "<re.Match object; span=(30, 36), match='friend'>"
      ]
     },
     "execution_count": 37,
     "metadata": {},
     "output_type": "execute_result"
    }
   ],
   "source": [
    "# \\Z - совпадение только с концом строки \n",
    "print_re_search(p_string=\"This is the end, my beautiful friend\", p_pattern=r\"\\w+\\Z\")"
   ]
  },
  {
   "cell_type": "code",
   "execution_count": 38,
   "id": "3960fea1",
   "metadata": {},
   "outputs": [
    {
     "name": "stdout",
     "output_type": "stream",
     "text": [
      "<re.Match object; span=(0, 5), match='Hello'>\n",
      "<re.Match object; span=(0, 5), match='Hello'>\n",
      "\n",
      "re.ASCII example\n",
      "<re.Match object; span=(0, 9), match='Нургалиев'>\n",
      "<re.Match object; span=(0, 9), match='Нургалиев'>\n",
      "\n",
      "re.DEBUG example\n",
      "IN\n",
      "  CATEGORY CATEGORY_SPACE\n",
      "MAX_REPEAT 1 MAXREPEAT\n",
      "  IN\n",
      "    CATEGORY CATEGORY_WORD\n",
      "IN\n",
      "  CATEGORY CATEGORY_SPACE\n",
      "\n",
      " 0. INFO 7 0b100 3 MAXREPEAT (to 8)\n",
      "      in\n",
      " 5.     CATEGORY UNI_SPACE\n",
      " 7.     FAILURE\n",
      " 8: IN 4 (to 13)\n",
      "10.   CATEGORY UNI_SPACE\n",
      "12.   FAILURE\n",
      "13: REPEAT_ONE 9 1 MAXREPEAT (to 23)\n",
      "17.   IN 4 (to 22)\n",
      "19.     CATEGORY UNI_WORD\n",
      "21.     FAILURE\n",
      "22:   SUCCESS\n",
      "23: IN 4 (to 28)\n",
      "25.   CATEGORY UNI_SPACE\n",
      "27.   FAILURE\n",
      "28: SUCCESS\n",
      "<re.Match object; span=(5, 18), match=' французских '>\n",
      "\n",
      "re.IGNORECASE example\n",
      "<re.Match object; span=(0, 6), match='OH, MY'>\n",
      "\n",
      "re.MULTILINE example\n",
      "['How', 'long', 'will', 'I', 'slide']\n",
      "\n",
      "re.DOTALL example\n",
      "<re.Match object; span=(0, 3), match='Hi\\n'>\n",
      "\n",
      "re.VERBOSE example\n",
      "<re.Match object; span=(0, 5), match='12.23'>\n",
      "<re.Match object; span=(0, 4), match='3.14'>\n"
     ]
    }
   ],
   "source": [
    "\"\"\"\n",
    "    Основные методы\n",
    "\"\"\"\n",
    "\n",
    "# re.compile(pattern, flags=0)\n",
    "# Компилирует паттерн в объект Regex, позволяя использовать над ним основные методы (match(), search(), итд)\n",
    "# флаги указывать через вертикальную черту (|) - битовый оператор ИЛИ\n",
    "# каждый флаг - это какая-то степень двойки\n",
    "\n",
    "l_regex_object = re.compile(pattern=r\"\\w+\")\n",
    "l_result = l_regex_object.match(string=\"Hello!\")\n",
    "print(l_result)\n",
    "# Эквивалентно шорткату ниже, но в первом случае результат кэшируется и есть возможность сразу указать флаги \n",
    "# Вообщем, нужно использовать compile, если паттерн будет использоваться несколько раз в одной программе\n",
    "l_result = re.match(pattern=r\"\\w+\", string=\"Hello!\")\n",
    "print(l_result)\n",
    "\n",
    "# Флаги - их уже разбирали ранее, но они имеют свои короткие и длинные имена \n",
    "\n",
    "# re.A (re.ASCII) - совпадение только по кодировке ASCII\n",
    "# Почему-то все равно находится совпадение, несмотря на флаг кодировки ASCII\n",
    "print(\"\\nre.ASCII example\")\n",
    "l_regex_object = re.compile(pattern=\"^Нургалиев\", flags=re.ASCII)\n",
    "l_result = l_regex_object.search(string=\"Нургалиев разрешил!\")\n",
    "print(l_result)\n",
    "\n",
    "l_regex_object = re.compile(pattern=\"^Нургалиев\", flags=0)\n",
    "l_result = l_regex_object.search(string=\"Нургалиев разрешил!\")\n",
    "print(l_result)\n",
    "\n",
    "# re.DEBUG - показывать отладочную информацию об регулярном выражении \n",
    "# так понял это лог работы регулярного выражения при поиске\n",
    "print(\"\\nre.DEBUG example\")\n",
    "l_regex_object = re.compile(pattern=\"\\s\\w+\\s\", flags=re.DEBUG)\n",
    "l_result = l_regex_object.search(string=\"Съешь французских булок!\")\n",
    "print(l_result)\n",
    "\n",
    "# re.I (re.IGNORECASE) - регистронезависимость\n",
    "print(\"\\nre.IGNORECASE example\")\n",
    "l_regex_object = re.compile(pattern=\"oh, my\", flags=re.IGNORECASE)\n",
    "l_result = l_regex_object.search(string=\"OH, MY\")\n",
    "print(l_result)\n",
    "\n",
    "# re.L (re.LOCALE) - регистронезависимость согласно текущей локали \n",
    "# (скипаю, тк не удалось найти подходящий пример + ранее описал причины моей ненависти к этому флагу)\n",
    "\n",
    "# re.M (re.MULTILINE) - многостроковой режим \n",
    "print(\"\\nre.MULTILINE example\")\n",
    "l_regex_object = re.compile(pattern=\"^\\w+$\", flags=re.MULTILINE)\n",
    "l_result = l_regex_object.findall(string=\"How\\nlong\\nwill\\nI\\nslide\")\n",
    "print(l_result)\n",
    "\n",
    "# re.S (re.DOTALL) - метасимвол . совпадает и с новой строкой \n",
    "print(\"\\nre.DOTALL example\")\n",
    "l_regex_object = re.compile(pattern=\".{3}\", flags=re.DOTALL)\n",
    "l_result = l_regex_object.search(string=\"Hi\\n\")\n",
    "print(l_result)\n",
    "\n",
    "# re.X (re.VERBOSE) - позволяет указывать комментарии в паттерне и записывать его в несколько строк \n",
    "print(\"\\nre.VERBOSE example\")\n",
    "l_regex_object = re.compile(\n",
    "    pattern = r\"\"\"\n",
    "        \\d + # целая часть \n",
    "        \\.   # разделитель десятичной дроби \n",
    "        \\d * # дробная часть \n",
    "    \"\"\", \n",
    "    flags = re.VERBOSE\n",
    ")\n",
    "l_result = l_regex_object.search(string=\"12.23\")\n",
    "print(l_result)\n",
    "# Это эквивалентно \n",
    "l_regex_object = re.compile(pattern=\"\\d+\\.\\d*\")\n",
    "l_result = l_regex_object.search(string=\"3.14\")\n",
    "print(l_result)\n"
   ]
  },
  {
   "cell_type": "code",
   "execution_count": 39,
   "id": "4845e538",
   "metadata": {},
   "outputs": [
    {
     "name": "stdout",
     "output_type": "stream",
     "text": [
      "<re.Match object; span=(0, 5), match='3.124'>\n",
      "None\n"
     ]
    }
   ],
   "source": [
    "# re.search(pattern, string, flags=0)\n",
    "# Поиск первого совпадения по строке - возвращает none, если совпадения не найдено  \n",
    "\n",
    "l_search_result = re.search(pattern=\"^\\d+\\.?\\d*$\", string=\"3.124\")\n",
    "print(l_search_result)\n",
    "\n",
    "l_search_result = re.search(pattern=\"^Isaac (?=Asimov)$\", string=\"Isaac Clarke\")\n",
    "print(l_search_result)"
   ]
  },
  {
   "cell_type": "code",
   "execution_count": 40,
   "id": "e0eee95d",
   "metadata": {},
   "outputs": [
    {
     "name": "stdout",
     "output_type": "stream",
     "text": [
      "None\n",
      "<re.Match object; span=(0, 10), match='Soft kitty'>\n"
     ]
    }
   ],
   "source": [
    "# re.match(pattern, string, flags=0)\n",
    "# Аналогично re.search, но только ищется совпадение с начала строки \n",
    "# Даже в режиме re.MULTILINE совпадает только в начале строки \n",
    "\n",
    "l_search_result = re.match(pattern=\"Doggie\", string=\"How much is that doggie in the window\")\n",
    "print(l_search_result)\n",
    "\n",
    "l_search_result = re.match(pattern=\"Soft kitty\", string=\"Soft kitty, warm kitty, little ball of fur.\")\n",
    "print(l_search_result)"
   ]
  },
  {
   "cell_type": "code",
   "execution_count": 41,
   "id": "c743472a",
   "metadata": {},
   "outputs": [
    {
     "name": "stdout",
     "output_type": "stream",
     "text": [
      "<re.Match object; span=(0, 15), match='Konichiwa, 777!'>\n",
      "None\n"
     ]
    }
   ],
   "source": [
    "# re.fullmatch(pattern, string, flags=0)\n",
    "# Если строка целиком совпадает с паттерном, то возвращает объект совпадения, иначе None\n",
    "\n",
    "l_search_result = re.fullmatch(pattern=\"Konichiwa, \\d\\d\\d!\", string=\"Konichiwa, 777!\")\n",
    "print(l_search_result)\n",
    "\n",
    "l_search_result = re.fullmatch(pattern=\"Konichiwa, \\d!\", string=\"Konichiwa, 777!\")\n",
    "print(l_search_result)"
   ]
  },
  {
   "cell_type": "code",
   "execution_count": 42,
   "id": "ae17df61",
   "metadata": {},
   "outputs": [
    {
     "name": "stdout",
     "output_type": "stream",
     "text": [
      "['127', '0', '0', '1']\n",
      "['127', '0', '0.1']\n"
     ]
    }
   ],
   "source": [
    "# re.split(pattern, string, maxsplit=0, flags=0)\n",
    "# Разделяет строку по совпадениям с паттерном - возвращает список из разделений \n",
    "# maxsplit - максимальное количество элементов в списке (возвращает список максимально из maxsplit+1 элемента)\n",
    "# последний элемент - остаток строки \n",
    "l_split_result = re.split(pattern=\"\\.\", string=\"127.0.0.1\", maxsplit=0)\n",
    "print(l_split_result)\n",
    "\n",
    "l_split_result = re.split(pattern=\"\\.\", string=\"127.0.0.1\", maxsplit=2)\n",
    "print(l_split_result)"
   ]
  },
  {
   "cell_type": "code",
   "execution_count": 43,
   "id": "13cee868",
   "metadata": {},
   "outputs": [
    {
     "name": "stdout",
     "output_type": "stream",
     "text": [
      "['foot', 'fell', 'fastest']\n",
      "[('width', '20'), ('height', '10')]\n"
     ]
    }
   ],
   "source": [
    "# re.findall(pattern, string, flags=0)\n",
    "# возвращает все непересекающиеся совпадения паттерна в строке как список из строк или кортежей \n",
    "# формат результата зависит от наличия захватываемых групп в паттерне - если больше одной - то список из кортежей \n",
    "l_findall_result = re.findall(pattern=r\"\\bf[a-z]*\", string=\"which foot or hand fell fastest\")\n",
    "print(l_findall_result)\n",
    "\n",
    "l_findall_result = re.findall(pattern=r\"(\\w+)=(\\d+)\", string=\"set width=20 and height=10\")\n",
    "print(l_findall_result)"
   ]
  },
  {
   "cell_type": "code",
   "execution_count": 44,
   "id": "8a36d036",
   "metadata": {},
   "outputs": [
    {
     "name": "stdout",
     "output_type": "stream",
     "text": [
      "<callable_iterator object at 0x06EC27F0>\n",
      "<re.Match object; span=(6, 10), match='foot'>\n",
      "<re.Match object; span=(19, 23), match='fell'>\n",
      "<re.Match object; span=(24, 31), match='fastest'>\n"
     ]
    }
   ],
   "source": [
    "# re.finditer(pattern, string, flags=0)\n",
    "# Аналогично re.findall - но возвращает итератор из объектов совпадения \n",
    "l_finditer_result = re.finditer(pattern=r\"\\bf[a-z]*\", string=\"which foot or hand fell fastest\")\n",
    "print(l_finditer_result)\n",
    "for i in l_finditer_result: \n",
    "    print(i)"
   ]
  },
  {
   "cell_type": "code",
   "execution_count": 45,
   "id": "757beeda",
   "metadata": {},
   "outputs": [
    {
     "name": "stdout",
     "output_type": "stream",
     "text": [
      "static PyObject*\n",
      "py-myfunc(void)\n",
      "{\n",
      "\n",
      "pro--gramfiles\n"
     ]
    }
   ],
   "source": [
    "# re.sub(pattern, repl, string, count=0, flags=0)\n",
    "# Возвращает строку, получающуюся путем замены с левого края непересекающихся совпадений с наличием pattern в \n",
    "# string с заменой на repl - может быть строкой или функцией.  \n",
    "# count - количество замен (должно быть неотрицательным целым числом), если 0 - то заменяется все \n",
    "l_sub_result = re.sub(\n",
    "    pattern=r\"\"\"\n",
    "        def\\s+ # Начинаем со слова def и любой комбинации пробельных символов \n",
    "        ([a-zA-Z_][a-zA-Z_0-9]*) # Валидное название функции \n",
    "        \\s*\\(\\s*\\): # Функция без параметров\n",
    "    \"\"\",\n",
    "    repl=r\"static PyObject*\\npy-\\1(void)\\n{\",\n",
    "    string=\"def myfunc():\",\n",
    "    count=0,\n",
    "    flags=re.VERBOSE\n",
    ")\n",
    "print(l_sub_result)\n",
    "\n",
    "def dashrepl(matchobj):\n",
    "    \"\"\"\n",
    "        Принимает на вход объект совпадения, если совпадает по дефису, то убирает его\n",
    "        Если нет, то возвращает дефис\n",
    "        input: \n",
    "            matchobj - объект совпадения \n",
    "    \"\"\"\n",
    "    if matchobj.group(0) == '-': return ''\n",
    "    else: return '-'\n",
    "    \n",
    "l_sub_result = re.sub(pattern=\"-{1,2}\", repl=dashrepl, string=\"pro----gram-files\")\n",
    "print(\"\\n\" + l_sub_result)\n"
   ]
  },
  {
   "cell_type": "code",
   "execution_count": 46,
   "id": "65c2252b",
   "metadata": {},
   "outputs": [
    {
     "name": "stdout",
     "output_type": "stream",
     "text": [
      "('zzboomboomPPPZaP', 2)\n"
     ]
    }
   ],
   "source": [
    "# re.subn(pattern, repl, string, count=0, flags=0)\n",
    "# То же самое, что и re.sub() - но возвращает кортеж - выходная строка и количество замен\n",
    "\n",
    "l_sub_result = re.subn(pattern=\"ZAP\", repl=\"boom\", string=\"zzzapZAPPPPZaP\", count=2, flags=re.IGNORECASE)\n",
    "print(l_sub_result)"
   ]
  },
  {
   "cell_type": "code",
   "execution_count": 47,
   "id": "089f30c5",
   "metadata": {},
   "outputs": [
    {
     "name": "stdout",
     "output_type": "stream",
     "text": [
      "https://www\\.google\\.com\n"
     ]
    }
   ],
   "source": [
    "# re.escape(pattern)\n",
    "# Экранирет спецсимволы в паттерне \n",
    "l_pattern = \"https://www.google.com\"\n",
    "print(re.escape(pattern=l_pattern))"
   ]
  },
  {
   "cell_type": "code",
   "execution_count": 48,
   "id": "ea6260e0",
   "metadata": {},
   "outputs": [],
   "source": [
    "# re.purge()\n",
    "# Очистка кэша регулярного выражения \n",
    "# https://stackoverflow.com/questions/54773313/why-should-we-use-re-purge-in-python-regular-expression\n",
    "# Есть смысл вызывать только в тестах\n",
    "\n",
    "re.purge()"
   ]
  },
  {
   "cell_type": "code",
   "execution_count": 49,
   "id": "67aafb9f",
   "metadata": {},
   "outputs": [
    {
     "name": "stdout",
     "output_type": "stream",
     "text": [
      "unterminated character set at position 0\n",
      "msg: unterminated character set\n",
      "pattern: [a-z{23}\n",
      "pos: 0\n",
      "lineno: 1\n",
      "colno: 1\n"
     ]
    }
   ],
   "source": [
    "# exception re.error(msg, pattern=None, pos=None)\n",
    "# Срабатывает, когда паттерн не является валидным регулярным выражением \n",
    "try:\n",
    "    print_re_search(p_string=\"\", p_pattern=\"[a-z{23}\")\n",
    "except re.error as e:\n",
    "    print(e)\n",
    "    print(\"msg:\", e.msg)\n",
    "    print(\"pattern:\", e.pattern)\n",
    "    print(\"pos:\", e.pos)\n",
    "    print(\"lineno:\", e.lineno)\n",
    "    print(\"colno:\", e.colno)"
   ]
  },
  {
   "cell_type": "code",
   "execution_count": 50,
   "id": "efdba48d",
   "metadata": {},
   "outputs": [
    {
     "name": "stdout",
     "output_type": "stream",
     "text": [
      "<re.Match object; span=(5, 8), match='CAT'>\n"
     ]
    }
   ],
   "source": [
    "\"\"\"\n",
    "    Объект Pattern\n",
    "    Экземпляр класса - скомпилированное регулярное выражение \n",
    "\"\"\"\n",
    "\n",
    "# Pattern.search(string[, pos[, endpos]])\n",
    "# Сканирует строку с pos по endpos и возвращает первое совпадение по паттерну \n",
    "l_pattern = re.compile(pattern=r\"c(\\w+)\\b\", flags=re.IGNORECASE)\n",
    "print(l_pattern.search(string=\"FURRYCAT\", pos=3, endpos=8))"
   ]
  },
  {
   "cell_type": "code",
   "execution_count": 51,
   "id": "b23ff40a",
   "metadata": {},
   "outputs": [
    {
     "name": "stdout",
     "output_type": "stream",
     "text": [
      "<re.Match object; span=(7, 12), match='Snoop'>\n",
      "<re.Match object; span=(0, 3), match='See'>\n",
      "None\n"
     ]
    }
   ],
   "source": [
    "# Pattern.match(string[, pos[, endpos]])\n",
    "# То же самое, что и search, но поиск идет с начала строки и позиции, если она указана\n",
    "l_pattern = re.compile(pattern=r\"s(\\w+)\\b\", flags=re.IGNORECASE)\n",
    "print(l_pattern.match(string=\"It's a Snoop Doggy Dogg\", pos=7))\n",
    "\n",
    "# Важный момент - pos, endpos - это индекс строки - стартует с 0\n",
    "print(l_pattern.match(string=\"See ya later alligator\", pos=0))\n",
    "print(l_pattern.match(string=\"See ya later alligator\", pos=1))"
   ]
  },
  {
   "cell_type": "code",
   "execution_count": 52,
   "id": "648c591f",
   "metadata": {},
   "outputs": [
    {
     "name": "stdout",
     "output_type": "stream",
     "text": [
      "<re.Match object; span=(6, 10), match='ABBA'>\n"
     ]
    }
   ],
   "source": [
    "# Pattern.fullmatch(string[, pos[, endpos]])\n",
    "# То же самое, что и match, но проверяет на совпадение всю строку\n",
    "l_pattern = re.compile(pattern=r\"a\\w+a\", flags=re.IGNORECASE)\n",
    "print(l_pattern.fullmatch(string=\"HNY - ABBA\", pos=6))"
   ]
  },
  {
   "cell_type": "code",
   "execution_count": 53,
   "id": "62a05f94",
   "metadata": {},
   "outputs": [
    {
     "name": "stdout",
     "output_type": "stream",
     "text": [
      "['I', \"don't\", 'want', 'To', 'set', 'the world\\nOn fire']\n"
     ]
    }
   ],
   "source": [
    "# Pattern.split(string, maxsplit=0)\n",
    "# Аналогично split - возвращает результат разделения строки по непересекающимся совпадениям с паттерном \n",
    "l_pattern = re.compile(pattern=\"\\s+\", flags=re.MULTILINE)\n",
    "print(l_pattern.split(string=\"I don't want\\nTo set the world\\nOn fire\", maxsplit=5))"
   ]
  },
  {
   "cell_type": "code",
   "execution_count": 54,
   "id": "6a66bb69",
   "metadata": {},
   "outputs": [
    {
     "name": "stdout",
     "output_type": "stream",
     "text": [
      "[('Height', '20.34'), ('Width', '11.23')]\n"
     ]
    }
   ],
   "source": [
    "# Pattern.findall(string[, pos[, endpos]])\n",
    "# Аналогично findall - возвращает список или кортеж, если групп больше одной \n",
    "l_pattern = re.compile(pattern=\"(\\w+)=(\\d+\\.?\\d*)\")\n",
    "print(l_pattern.findall(string=\"Height=20.34 Width=11.23\"))"
   ]
  },
  {
   "cell_type": "code",
   "execution_count": 55,
   "id": "21568e7e",
   "metadata": {},
   "outputs": [
    {
     "name": "stdout",
     "output_type": "stream",
     "text": [
      "<re.Match object; span=(0, 3), match='And'>\n",
      "<re.Match object; span=(4, 8), match='then'>\n",
      "<re.Match object; span=(9, 12), match='you'>\n",
      "<re.Match object; span=(13, 20), match='finally'>\n",
      "<re.Match object; span=(21, 24), match='saw'>\n",
      "<re.Match object; span=(25, 27), match='it'>\n",
      "<re.Match object; span=(28, 34), match='coming'>\n",
      "<re.Match object; span=(35, 37), match='it'>\n",
      "<re.Match object; span=(38, 44), match='passed'>\n",
      "<re.Match object; span=(45, 48), match='you'>\n",
      "<re.Match object; span=(49, 51), match='by'>\n",
      "<re.Match object; span=(52, 55), match='and'>\n",
      "<re.Match object; span=(56, 60), match='left'>\n",
      "<re.Match object; span=(61, 64), match='you'>\n",
      "<re.Match object; span=(65, 67), match='so'>\n",
      "<re.Match object; span=(68, 76), match='defeated'>\n"
     ]
    }
   ],
   "source": [
    "# Pattern.finditer(string[, pos[, endpos]])\n",
    "# Аналогично findall, но возвращает итератор \n",
    "l_pattern = re.compile(pattern=\"\\w+\")\n",
    "l_iterator = l_pattern.finditer(string=\"And then you finally saw it coming it passed you by and left you so defeated\")\n",
    "for i in l_iterator: \n",
    "    print(i)"
   ]
  },
  {
   "cell_type": "code",
   "execution_count": 56,
   "id": "08afe43b",
   "metadata": {},
   "outputs": [
    {
     "name": "stdout",
     "output_type": "stream",
     "text": [
      "__placeholder__ __placeholder__ #LISTEN#\n"
     ]
    }
   ],
   "source": [
    "# Pattern.sub(repl, string, count=0)\n",
    "# аналогично sub - заменяет строку по непересекающимся совпадениям с паттерном на repl (строка или функция)\n",
    "l_pattern = re.compile(pattern=\"#\\w+#\")\n",
    "l_result = l_pattern.sub(repl=\"__placeholder__\", string=\"#HEY# #YO# #LISTEN#\", count=2)\n",
    "print(l_result)"
   ]
  },
  {
   "cell_type": "code",
   "execution_count": 57,
   "id": "4b4e0d95",
   "metadata": {},
   "outputs": [
    {
     "name": "stdout",
     "output_type": "stream",
     "text": [
      "__placeholder__ __placeholder__ #LISTEN#\n"
     ]
    }
   ],
   "source": [
    "# Pattern.subn(repl, string. count=0)\n",
    "# аналогично subn - кортеж из измененной строки и количества замен \n",
    "l_pattern = re.compile(pattern=\"#\\w+#\")\n",
    "l_result = l_pattern.sub(repl=\"__placeholder__\", string=\"#HEY# #YO# #LISTEN#\", count=2)\n",
    "print(l_result)"
   ]
  },
  {
   "cell_type": "code",
   "execution_count": 58,
   "id": "a94aa848",
   "metadata": {},
   "outputs": [
    {
     "name": "stdout",
     "output_type": "stream",
     "text": [
      "flags: 42\n",
      "groups: 3\n",
      "groupindex: {'begin': 1, 'word': 2, 'end': 3}\n",
      "pattern: (?P<begin>#)(?P<word>\\w+)(?P<end>#)\n"
     ]
    }
   ],
   "source": [
    "# Атрибуты Pattern \n",
    "l_pattern = re.compile(pattern=\"(?P<begin>#)(?P<word>\\w+)(?P<end>#)\", flags=re.IGNORECASE | re.MULTILINE)\n",
    "print(\"flags:\", l_pattern.flags)\n",
    "print(\"groups:\", l_pattern.groups)\n",
    "print(\"groupindex:\", l_pattern.groupindex)\n",
    "print(\"pattern:\", l_pattern.pattern)"
   ]
  },
  {
   "cell_type": "code",
   "execution_count": 59,
   "id": "74d5806a",
   "metadata": {},
   "outputs": [
    {
     "name": "stdout",
     "output_type": "stream",
     "text": [
      "<class 're.Pattern'>\n",
      "<class 're.Match'>\n",
      "<class 're.Match'>\n",
      "<class 're.Match'>\n"
     ]
    }
   ],
   "source": [
    "\"\"\"\n",
    "    Объект Match \n",
    "\"\"\"\n",
    "\n",
    "# Этот объект - это результат выполнения match(), search() по скомпилированному regex, либо по шорткату \n",
    "l_regex_compiled = re.compile(pattern=\"\\d+\")\n",
    "print(type(l_regex_compiled))\n",
    "l_match_object = l_regex_compiled.search(string=\"2022\")\n",
    "print(type(l_match_object))\n",
    "\n",
    "l_match_object_shortcut = re.search(pattern=\"\\d+\", string=\"2022\")\n",
    "print(type(l_match_object_shortcut))\n",
    "l_match_object_shortcut = re.match(pattern=\"\\d+\", string=\"2022\")\n",
    "print(type(l_match_object_shortcut))"
   ]
  },
  {
   "cell_type": "code",
   "execution_count": 60,
   "id": "a67b8cab",
   "metadata": {},
   "outputs": [
    {
     "name": "stdout",
     "output_type": "stream",
     "text": [
      "The number is 123.456\n",
      "Reversed number is 456.123\n",
      "Decomposed number: precision is 123, scale is 456, decimal point is .\n"
     ]
    }
   ],
   "source": [
    "# Match.expand(template)\n",
    "# Позволяет подставить в произвольный текстовый шаблон совпадение по паттерну и группам \n",
    "\n",
    "l_match_object = re.search(\n",
    "    pattern=\"(?P<precision>\\d+)(?P<decimal_point>[\\.,])?(?P<scale>\\d+)?\",\n",
    "    string=\"123.456\"\n",
    ")\n",
    "print(l_match_object.expand(template=r\"The number is \\1\\2\\3\"))\n",
    "print(l_match_object.expand(template=r\"Reversed number is \\g<3>\\g<2>\\g<1>\"))\n",
    "print(l_match_object.expand(\n",
    "    template=r\"Decomposed number: precision is \\g<precision>, scale is \\g<scale>, decimal point is \\g<decimal_point>\"\n",
    "))"
   ]
  },
  {
   "cell_type": "code",
   "execution_count": 61,
   "id": "7fee3177",
   "metadata": {},
   "outputs": [
    {
     "name": "stdout",
     "output_type": "stream",
     "text": [
      "Bair Dorgiev\n",
      "Bair\n",
      "Dorgiev\n",
      "('Bair', 'Dorgiev')\n",
      "Bair Dorgiev\n",
      "Bair\n",
      "Dorgiev\n",
      "\n",
      "Mike\n",
      "Wazovski\n",
      "Mike\n",
      "Wazovski\n",
      "\n",
      "c3\n"
     ]
    }
   ],
   "source": [
    "# Match.group([group1,...])\n",
    "# Возвращает одну или более подгрупп совпадения \n",
    "# Также к группе можно обращаться по индексу (как к элементу списка), \n",
    "# либо по названию группы, если оно есть (как у словаря)\n",
    "l_match_object = re.match(pattern=r\"(\\w+) (\\w+)\", string=\"Bair Dorgiev, gentleman\")\n",
    "print(l_match_object.group(0))\n",
    "print(l_match_object.group(1))\n",
    "print(l_match_object.group(2))\n",
    "print(l_match_object.group(1,2))\n",
    "# Или так:\n",
    "print(l_match_object[0])\n",
    "print(l_match_object[1])\n",
    "print(l_match_object[2])\n",
    "# А вот так нельзя: print(l_match_object[1,2])\n",
    "print()\n",
    "\n",
    "# Можно обращаться по имени группы, если оно указано\n",
    "l_match_object = re.match(\n",
    "    pattern=r\"(?P<first_name>\\w+) (?P<last_name>\\w+)\",\n",
    "    string=\"Mike Wazovski\"\n",
    ")\n",
    "print(l_match_object.group('first_name'))\n",
    "print(l_match_object.group('last_name'))\n",
    "# Или так:\n",
    "print(l_match_object['first_name'])\n",
    "print(l_match_object['last_name'])\n",
    "print()\n",
    "\n",
    "# Если группа совпадает несколько раз, то доступно только последнее совпадение\n",
    "l_match_object = re.match(pattern=r\"(..)+\", string=\"a1b2c3\")\n",
    "print(l_match_object.group(1))"
   ]
  },
  {
   "cell_type": "code",
   "execution_count": 62,
   "id": "92fa58eb",
   "metadata": {},
   "outputs": [
    {
     "name": "stdout",
     "output_type": "stream",
     "text": [
      "('24', '.', '1632')\n",
      "('88005553535', 'unknown_part', 'unknown_part')\n"
     ]
    }
   ],
   "source": [
    "# Match.groups(default=None)\n",
    "# Возвращает кортеж со всеми подгруппами по совпадению, от 1 до общего числа групп.\n",
    "# default - значение группы, которая не совпала\n",
    "l_compiled_pattern = re.compile(pattern=r\"(\\d+)(\\.)?(\\d+)?\")\n",
    "l_match_object = l_compiled_pattern.match(\n",
    "    string=\"24.1632\"\n",
    ")\n",
    "print(l_match_object.groups())\n",
    "\n",
    "# Пример применения default \n",
    "l_match_object = l_compiled_pattern.match(\n",
    "    string=\"88005553535\"\n",
    ")\n",
    "print(l_match_object.groups(default=\"unknown_part\"))"
   ]
  },
  {
   "cell_type": "code",
   "execution_count": 63,
   "id": "44d0616d",
   "metadata": {},
   "outputs": [
    {
     "name": "stdout",
     "output_type": "stream",
     "text": [
      "{'Имя': 'Федор', 'Фамилия': 'Конюхов', 'Отчество': 'NOT_DEFINED'}\n"
     ]
    }
   ],
   "source": [
    "# Match.groupdict(default=None)\n",
    "# Возвращает словарь, содержащий все именованные подгруппы совпадения, с ключом по имени подгруппы \n",
    "# default - значение несовпавшей группы \n",
    "l_compiled_pattern = re.compile(\n",
    "    pattern=r\"(?P<Имя>\\w+)?(\\s+)?(?P<Фамилия>\\w+)?(\\s+)?(?P<Отчество>\\w+)?\"\n",
    ")\n",
    "l_match_object = l_compiled_pattern.search(string=\"Федор Конюхов\")\n",
    "print(l_match_object.groupdict(default=\"NOT_DEFINED\"))"
   ]
  },
  {
   "cell_type": "code",
   "execution_count": 64,
   "id": "a9863bab",
   "metadata": {},
   "outputs": [
    {
     "name": "stdout",
     "output_type": "stream",
     "text": [
      "0\n",
      "9\n",
      "0\n",
      "9\n",
      "6\n",
      "9\n"
     ]
    }
   ],
   "source": [
    "# Match.start([group=0]), Match.end([group=0])\n",
    "# Возвращает индексы начала и конца части строки в зависимости от группы, где произошло совпадение\n",
    "l_compiled_pattern = re.compile(pattern=\"(\\d+)(\\s+)(\\w+)\")\n",
    "l_search_object = l_compiled_pattern.search(\n",
    "    string=\"12345 six seven eight - Ken Laslo\"\n",
    ")\n",
    "# по умолчанию 0 - весь паттерн\n",
    "print(l_search_object.start())\n",
    "print(l_search_object.end())\n",
    "\n",
    "print(l_search_object.start(0))\n",
    "print(l_search_object.end(0))\n",
    "\n",
    "print(l_search_object.start(3))\n",
    "print(l_search_object.end(3))\n",
    "\n",
    "# А так нельзя: print(l_search_object.start([1,2]))\n"
   ]
  },
  {
   "cell_type": "code",
   "execution_count": 65,
   "id": "e41a4920",
   "metadata": {},
   "outputs": [
    {
     "name": "stdout",
     "output_type": "stream",
     "text": [
      "(0, 9)\n",
      "(0, 5)\n",
      "(5, 6)\n",
      "(6, 9)\n"
     ]
    }
   ],
   "source": [
    "# Match.span([group])\n",
    "# Возвращает кортеж вида (m.start(group), m.end(group)), если группа не удовлетворяет совпадению, то (-1, -1)\n",
    "l_compiled_pattern = re.compile(pattern=\"(\\d+)(\\s+)(\\w+)\")\n",
    "l_search_object = l_compiled_pattern.search(\n",
    "    string=\"12345 six seven eight - Ken Laslo\"\n",
    ")\n",
    "\n",
    "print(l_search_object.span())\n",
    "print(l_search_object.span(1))\n",
    "print(l_search_object.span(2))\n",
    "print(l_search_object.span(3))"
   ]
  },
  {
   "cell_type": "code",
   "execution_count": 71,
   "id": "ad976210",
   "metadata": {},
   "outputs": [
    {
     "name": "stdout",
     "output_type": "stream",
     "text": [
      "pos: 7\n",
      "endpos: 9\n",
      "lastindex: 3\n",
      "lastgroup: scale\n",
      "re: re.compile('\\\\w+')\n",
      "string: Hello, kitty!\n"
     ]
    }
   ],
   "source": [
    "# Атрибуты Match - объекта \n",
    "\n",
    "# Match.pos - значение стартовой позиции, передано в search(), match() \n",
    "l_compiled_pattern = re.compile(pattern=\"\\d+\")\n",
    "l_search_object = l_compiled_pattern.match(string=\"Сумма: 248\", pos=7)\n",
    "print(\"pos:\", l_search_object.pos)\n",
    "\n",
    "# Match.endpos - значение конечной позиции, передано в search(), match() \n",
    "l_search_object = l_compiled_pattern.match(string=\"1234 5678 9012 3456\", pos=5, endpos=9)\n",
    "print(\"endpos:\", l_search_object.endpos)\n",
    "\n",
    "# Match.lastindex - целочисленный индекс последней совпавшей захваченной группы \n",
    "l_compiled_pattern = re.compile(pattern=\"(\\d+)?([\\.,])?(\\d+)?\")\n",
    "l_search_object = l_compiled_pattern.match(string=\"234.456\")\n",
    "print(\"lastindex:\", l_search_object.lastindex)\n",
    "\n",
    "# Match.lastgroup - название последней совпавшей захваченной группы \n",
    "l_compiled_pattern = re.compile(pattern=\"(P?<precision>\\d+)?(?P<decimal_point>[\\.,])?(?P<scale>\\d+)?\")\n",
    "l_search_object = l_compiled_pattern.match(string=\"123,123\")\n",
    "print(\"lastgroup:\", l_search_object.lastgroup)\n",
    "\n",
    "# Match.re - объект регулярного выражения, использование match() или search() на котором сгенерировало совпадение\n",
    "# Само выполняемое выражение\n",
    "l_compiled_pattern = re.compile(pattern=\"\\w+\")\n",
    "l_search_object = l_compiled_pattern.match(string=\"Hello, kitty!\")\n",
    "print(\"re:\", l_search_object.re)\n",
    "# Match.string - строка переданная на проверку \n",
    "print(\"string:\", l_search_object.string)"
   ]
  },
  {
   "cell_type": "code",
   "execution_count": null,
   "id": "e85f4b7f",
   "metadata": {},
   "outputs": [],
   "source": []
  }
 ],
 "metadata": {
  "kernelspec": {
   "display_name": "Python 3 (ipykernel)",
   "language": "python",
   "name": "python3"
  },
  "language_info": {
   "codemirror_mode": {
    "name": "ipython",
    "version": 3
   },
   "file_extension": ".py",
   "mimetype": "text/x-python",
   "name": "python",
   "nbconvert_exporter": "python",
   "pygments_lexer": "ipython3",
   "version": "3.8.5"
  }
 },
 "nbformat": 4,
 "nbformat_minor": 5
}
