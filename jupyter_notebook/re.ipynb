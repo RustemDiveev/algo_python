{
 "cells": [
  {
   "cell_type": "code",
   "execution_count": 1,
   "id": "0a6ff04a",
   "metadata": {},
   "outputs": [],
   "source": [
    "import re \n",
    "\n",
    "# Синтаксис регулярных выражений \n",
    "    # Метасимволы \n",
    "    # Специальные символы \n",
    "# Основные методы (shortcuts)\n",
    "# Объект Pattern \n",
    "# Объект Match \n",
    "# Примеры\n",
    "\n",
    "# Все-таки, нужны хэлперы, чтобы красиво показывать и демонстрировать разницу \n",
    "def print_re_search(p_string: str, p_pattern: str) -> re.Match:\n",
    "    \"\"\"\n",
    "        Выводит результат применения re.search \n",
    "        input: \n",
    "            p_string - искомая строка \n",
    "            p_pattern - паттерн регулярного выражения \n",
    "    \"\"\"\n",
    "    l_result = re.search(p_pattern, p_string)\n",
    "    print(\n",
    "        \"\\nСтрока: \" + p_string,\n",
    "        \"Паттерн: \" + p_pattern,\n",
    "        \"Объект поиска: \" + str(l_result),\n",
    "        sep=\"\\n\"\n",
    "    )\n",
    "    if l_result is not None and isinstance(l_result.lastindex, (int,)) and l_result.lastindex > 1:\n",
    "        for i in range(1, l_result.lastindex + 1):\n",
    "            print(\"Группа \" + str(i) + \":\", l_result.group(i))\n",
    "    return l_result\n",
    "    \n",
    "def print_re_match(p_string: str, p_pattern: str):\n",
    "    \"\"\"\n",
    "        Выводит результат применения re.match \n",
    "        input: \n",
    "            p_string - искомая строка \n",
    "            p_pattern - паттерн регулярного выражения \n",
    "    \"\"\"\n",
    "    print(\n",
    "        \"\\nСтрока: \" + p_string,\n",
    "        \"Паттерн: \" + p_pattern,\n",
    "        \"Объект поиска: \" + str(re.match(p_pattern, p_string)),\n",
    "        sep=\"\\n\"\n",
    "    )\n",
    "    \n",
    "def print_re_split(p_string: str, p_pattern: str, p_flags: int=0):\n",
    "    \"\"\"\n",
    "        Выводит результат применения re.split\n",
    "        input:\n",
    "            p_string - искомая строка \n",
    "            p_pattern - паттерн регулярного выражения \n",
    "            p_flags - флаги регулярных выражений\n",
    "    \"\"\"\n",
    "    print(\n",
    "        \"\\nСтрока: \" + p_string,\n",
    "        \"Паттерн: \" + p_pattern,\n",
    "        \"Результат разделения: \" + str(re.split(p_pattern, p_string, flags=p_flags)),\n",
    "        sep=\"\\n\"\n",
    "    )\n",
    "    "
   ]
  },
  {
   "cell_type": "code",
   "execution_count": 2,
   "id": "cd5702fd",
   "metadata": {},
   "outputs": [
    {
     "name": "stdout",
     "output_type": "stream",
     "text": [
      "\n",
      "Строка: \\I'm a backslash\n",
      "Паттерн: \\\\\n",
      "Объект поиска: <re.Match object; span=(0, 1), match='\\\\'>\n",
      "\n",
      "Строка: \\I'm a backslash\n",
      "Паттерн: \\\\\n",
      "Объект поиска: <re.Match object; span=(0, 1), match='\\\\'>\n"
     ]
    },
    {
     "data": {
      "text/plain": [
       "True"
      ]
     },
     "execution_count": 2,
     "metadata": {},
     "output_type": "execute_result"
    }
   ],
   "source": [
    "# Разница между обычным строковым литералом '...' и r'...' (Raw string notation)\n",
    "# Например, если мы хотим найти совпадение по обратному слешу\n",
    "print_re_search(p_string=\"\\I'm a backslash\", p_pattern=\"\\\\\\\\\")\n",
    "print_re_search(p_string=\"\\I'm a backslash\", p_pattern=r\"\\\\\")\n",
    "\n",
    "\"\\\\\\\\\" == r\"\\\\\"\n"
   ]
  },
  {
   "cell_type": "code",
   "execution_count": 3,
   "id": "6e02f255",
   "metadata": {},
   "outputs": [
    {
     "name": "stdout",
     "output_type": "stream",
     "text": [
      "\n",
      "Строка: \n",
      "Паттерн: .\n",
      "Объект поиска: None\n",
      "\n",
      "Строка: \n",
      "\n",
      "Паттерн: .\n",
      "Объект поиска: None\n",
      "\n",
      "Строка:  a1\\+\n",
      "Паттерн: .\n",
      "Результат разделения: ['', '', '', '', '', '']\n",
      "\n",
      "Строка: Line 1 \n",
      "Line 2\n",
      "\n",
      "Паттерн: .\n",
      "Результат разделения: ['', '', '', '', '', '', '', '\\n', '', '', '', '', '', '\\n']\n",
      "\n",
      "Строка: Line 1 \n",
      "Line 2\n",
      "\n",
      "Паттерн: .\n",
      "Результат разделения: ['', '', '', '', '', '', '', '', '', '', '', '', '', '', '', '']\n",
      "\n",
      "Указывай параметр с флагами явно!\n",
      "['', '', '', '', '', '', '', '\\n', '', '', '', '', '', '\\n']\n",
      "['', '', '', '', '', '', '', '', '', '', '', '', '', '', '', '']\n"
     ]
    }
   ],
   "source": [
    "# Метасимволы \n",
    "\n",
    "# . - любой символ \n",
    "print_re_search(p_string=\"\", p_pattern=\".\") # Не находит совпадения по пустой строке\n",
    "print_re_search(p_string=\"\\n\", p_pattern=\".\") # Не находит совпадения по новой строке\n",
    "print_re_split(p_string=' a1\\+', p_pattern=r'.') # Совпадает во всех местах\n",
    "\n",
    "# Строковой литерал на несколько строк\n",
    "l_string = \"\"\"Line 1 \n",
    "Line 2\n",
    "\"\"\"\n",
    "print_re_split(p_string=l_string, p_pattern=r'.')\n",
    "   \n",
    "# Если выставлен DOTALL то совпадает и с символом новой строки\n",
    "print_re_split(p_string=l_string, p_pattern=r'.', p_flags=re.DOTALL)\n",
    "\n",
    "# Необходимо явно указывать параметр с флагами \n",
    "# Пруфы ниже \n",
    "print(\"\\nУказывай параметр с флагами явно!\")\n",
    "print(re.split(r'.', l_string, re.DOTALL))\n",
    "print(re.split(r'.', l_string, flags=re.DOTALL))\n"
   ]
  },
  {
   "cell_type": "code",
   "execution_count": 4,
   "id": "5ddaa3b3",
   "metadata": {},
   "outputs": [
    {
     "name": "stdout",
     "output_type": "stream",
     "text": [
      "\n",
      "Строка: beggar\n",
      "Паттерн: ^b\n",
      "Объект поиска: <re.Match object; span=(0, 1), match='b'>\n",
      "\n",
      "Строка: beggar\n",
      "Паттерн: b\n",
      "Объект поиска: <re.Match object; span=(0, 1), match='b'>\n",
      "\n",
      "Строка: Раз \n",
      "Два \n",
      "Три \n",
      "Четыре\n",
      "Паттерн: ^\n",
      "Результат разделения: ['', 'Раз \\nДва \\nТри \\nЧетыре']\n",
      "\n",
      "Строка: Раз \n",
      "Два \n",
      "Три \n",
      "Четыре\n",
      "Паттерн: ^\n",
      "Результат разделения: ['', 'Раз \\n', 'Два \\n', 'Три \\n', 'Четыре']\n"
     ]
    }
   ],
   "source": [
    "# Метасимволы \n",
    "# ^ - начало строки \n",
    "print_re_search(p_string=\"beggar\", p_pattern=\"^b\")\n",
    "print_re_match(p_string=\"beggar\", p_pattern=\"b\")\n",
    "# re.search(\"^...\") == re.match(\"...\")\n",
    "\n",
    "# Если включен MULTILINE, то совпадает с позицией после новой строки \n",
    "l_string = \"\"\"Раз \n",
    "Два \n",
    "Три \n",
    "Четыре\"\"\"\n",
    "print_re_split(p_string=l_string, p_pattern=\"^\")\n",
    "print_re_split(p_string=l_string, p_pattern=\"^\", p_flags=re.MULTILINE)"
   ]
  },
  {
   "cell_type": "code",
   "execution_count": 5,
   "id": "79481fb2",
   "metadata": {},
   "outputs": [
    {
     "name": "stdout",
     "output_type": "stream",
     "text": [
      "a\n",
      "<re.Match object; span=(4, 6), match='ed'>\n",
      "b\n",
      "['a\\nb\\nc\\nd', '']\n",
      "['a\\nb\\nc\\nd', '\\n', '']\n",
      "['a', '\\nb', '\\nc', '\\nd', '\\n', '']\n"
     ]
    }
   ],
   "source": [
    "# Метасимволы \n",
    "# $ - конец строки \n",
    "\n",
    "print(\"a\")\n",
    "a = re.search(\"ed$\", \"dashed\")\n",
    "print(a)\n",
    "\n",
    "# Пример с несколькими строками \n",
    "print(\"b\")\n",
    "l_string = \"a\\nb\\nc\\nd\"\n",
    "b = re.split(\"$\", l_string)\n",
    "print(b)\n",
    "# Это очень странно - совпадает в 2х местах (это написано в документации)\n",
    "l_string = \"a\\nb\\nc\\nd\\n\"\n",
    "b = re.split(\"$\", l_string)\n",
    "print(b)\n",
    "# Если включен MULTILINE, то совпадает с позицией до новой строки\n",
    "b = re.split(\"$\", l_string, flags=re.MULTILINE)\n",
    "print(b)"
   ]
  },
  {
   "cell_type": "code",
   "execution_count": 6,
   "id": "c63d12e4",
   "metadata": {},
   "outputs": [
    {
     "name": "stdout",
     "output_type": "stream",
     "text": [
      "\n",
      "Строка: Hello\n",
      "Паттерн: l*\n",
      "Результат разделения: ['', 'H', 'e', '', 'o', '']\n",
      "\n",
      "Строка: Hello\n",
      "Паттерн: l*?\n",
      "Результат разделения: ['', 'H', 'e', '', '', '', '', 'o', '']\n"
     ]
    }
   ],
   "source": [
    "# Метасимволы \n",
    "# * - повторение символов от 0 до плюс бесконечности, спереди указывается символ или группа\n",
    "# У квантификатора всегда должен быть хотя бы 1 символ, по которому он будет искать повторение\n",
    "\n",
    "\"\"\"\n",
    "# Так делать нельзя - упадет с неотловленной ошибкой\n",
    "a = re.split(\"*\", \"Hello\")\n",
    "print(a)\n",
    "\"\"\"\n",
    "\n",
    "# Жадный оператор, схавал обе l \n",
    "print_re_split(p_string=\"Hello\", p_pattern=\"l*\")\n",
    "\n",
    "# Нежадный оператор, нашел все совпадения (до первой l, после первой l, до второй l, после второй l)\n",
    "print_re_split(p_string=\"Hello\", p_pattern=\"l*?\")\n"
   ]
  },
  {
   "cell_type": "code",
   "execution_count": 7,
   "id": "dafb06c7",
   "metadata": {},
   "outputs": [
    {
     "name": "stdout",
     "output_type": "stream",
     "text": [
      "\n",
      "Строка: abaabaaab\n",
      "Паттерн: a+\n",
      "Результат разделения: ['', 'b', 'b', 'b']\n",
      "\n",
      "Строка: abaabaaab\n",
      "Паттерн: a+?\n",
      "Результат разделения: ['', 'b', '', 'b', '', '', 'b']\n"
     ]
    }
   ],
   "source": [
    "# Метасимволы \n",
    "# + - повторение символов от 1 до плюс бесконечности\n",
    "print_re_split(p_string=\"abaabaaab\", p_pattern=\"a+\")\n",
    "\n",
    "print_re_split(p_string=\"abaabaaab\", p_pattern=\"a+?\")\n"
   ]
  },
  {
   "cell_type": "code",
   "execution_count": 8,
   "id": "dccd707a",
   "metadata": {},
   "outputs": [
    {
     "name": "stdout",
     "output_type": "stream",
     "text": [
      "\n",
      "Строка: Svetloye solntce\n",
      "Паттерн: Svetloye (pivo)?\n",
      "Объект поиска: <re.Match object; span=(0, 9), match='Svetloye '>\n",
      "\n",
      "Строка: Svetloye \n",
      "Паттерн: Svetloye (pivo)?\n",
      "Объект поиска: <re.Match object; span=(0, 9), match='Svetloye '>\n",
      "\n",
      "Строка: Svetloye pivo\n",
      "Паттерн: Svetloye (pivo)?\n",
      "Объект поиска: <re.Match object; span=(0, 13), match='Svetloye pivo'>\n"
     ]
    },
    {
     "data": {
      "text/plain": [
       "<re.Match object; span=(0, 13), match='Svetloye pivo'>"
      ]
     },
     "execution_count": 8,
     "metadata": {},
     "output_type": "execute_result"
    }
   ],
   "source": [
    "# Метасимволы \n",
    "# ? - повторение символов от 0 до 1 раза \n",
    "\n",
    "l_pattern = 'Svetloye (pivo)?'\n",
    "print_re_search(p_string='Svetloye solntce', p_pattern=l_pattern)\n",
    "print_re_search(p_string='Svetloye ', p_pattern=l_pattern)\n",
    "print_re_search(p_string='Svetloye pivo', p_pattern=l_pattern)\n"
   ]
  },
  {
   "cell_type": "code",
   "execution_count": 9,
   "id": "500b40bd",
   "metadata": {},
   "outputs": [
    {
     "name": "stdout",
     "output_type": "stream",
     "text": [
      "\n",
      "* vs *?\n",
      "\n",
      "Строка: aabbcc\n",
      "Паттерн: ^a*\n",
      "Объект поиска: <re.Match object; span=(0, 2), match='aa'>\n",
      "\n",
      "Строка: aabbcc\n",
      "Паттерн: ^a*?\n",
      "Объект поиска: <re.Match object; span=(0, 0), match=''>\n",
      "\n",
      "+ vs +?\n",
      "\n",
      "Строка: aaaaaaabc\n",
      "Паттерн: ^a+\n",
      "Объект поиска: <re.Match object; span=(0, 7), match='aaaaaaa'>\n",
      "\n",
      "Строка: aaaaaaabc\n",
      "Паттерн: ^a+?\n",
      "Объект поиска: <re.Match object; span=(0, 1), match='a'>\n",
      "\n",
      "? vs ??\n",
      "\n",
      "Строка: aabc\n",
      "Паттерн: ^a?\n",
      "Объект поиска: <re.Match object; span=(0, 1), match='a'>\n",
      "\n",
      "Строка: aabc\n",
      "Паттерн: ^a??\n",
      "Объект поиска: <re.Match object; span=(0, 0), match=''>\n"
     ]
    },
    {
     "data": {
      "text/plain": [
       "<re.Match object; span=(0, 0), match=''>"
      ]
     },
     "execution_count": 9,
     "metadata": {},
     "output_type": "execute_result"
    }
   ],
   "source": [
    "# Метасимволы \n",
    "# Жадные vs щедрые квантификаторы \n",
    "\n",
    "# *, +, ? - жадины \n",
    "# *?, +?, ?? - меценаты \n",
    "\n",
    "print(\"\\n* vs *?\")\n",
    "l_str = \"aabbcc\"\n",
    "print_re_search(p_string=l_str, p_pattern='^a*')\n",
    "print_re_search(p_string=l_str, p_pattern='^a*?')\n",
    "\n",
    "print(\"\\n+ vs +?\")\n",
    "l_str = \"aaaaaaabc\"\n",
    "print_re_search(p_string=l_str, p_pattern='^a+')\n",
    "print_re_search(p_string=l_str, p_pattern='^a+?')\n",
    "\n",
    "print(\"\\n? vs ??\")\n",
    "l_str = \"aabc\"\n",
    "print_re_search(p_string=l_str, p_pattern=\"^a?\")\n",
    "print_re_search(p_string=l_str, p_pattern=\"^a??\")\n"
   ]
  },
  {
   "cell_type": "code",
   "execution_count": 10,
   "id": "63a705ab",
   "metadata": {},
   "outputs": [
    {
     "name": "stdout",
     "output_type": "stream",
     "text": [
      "\n",
      "Строка: xyzxyzxyz\n",
      "Паттерн: (xyz){2}$\n",
      "Объект поиска: None\n",
      "\n",
      "Строка: xyzxyzxyz\n",
      "Паттерн: (xyz){3}$\n",
      "Объект поиска: <re.Match object; span=(0, 9), match='xyzxyzxyz'>\n"
     ]
    }
   ],
   "source": [
    "# Метасимволы \n",
    "# Точное количество повторений \n",
    "\n",
    "# {m} - повторись ровно m раз \n",
    "\n",
    "l_str = \"xyzxyzxyz\"\n",
    "print_re_match(p_string=l_str, p_pattern=\"(xyz){2}$\")\n",
    "print_re_match(p_string=l_str, p_pattern=\"(xyz){3}$\")\n"
   ]
  },
  {
   "cell_type": "code",
   "execution_count": 11,
   "id": "443c1684",
   "metadata": {},
   "outputs": [
    {
     "name": "stdout",
     "output_type": "stream",
     "text": [
      "\n",
      "Строка: фафафафа\n",
      "Паттерн: (фа){1,3}\n",
      "Объект поиска: <re.Match object; span=(0, 6), match='фафафа'>\n",
      "\n",
      "Строка: фафафафа\n",
      "Паттерн: (гы){,3}\n",
      "Объект поиска: <re.Match object; span=(0, 0), match=''>\n",
      "\n",
      "Строка: фафафафа\n",
      "Паттерн: (фа){0,}\n",
      "Объект поиска: <re.Match object; span=(0, 8), match='фафафафа'>\n",
      "\n",
      "Строка: фафафафа\n",
      "Паттерн: (фа){1,4}?\n",
      "Объект поиска: <re.Match object; span=(0, 2), match='фа'>\n"
     ]
    },
    {
     "data": {
      "text/plain": [
       "<re.Match object; span=(0, 2), match='фа'>"
      ]
     },
     "execution_count": 11,
     "metadata": {},
     "output_type": "execute_result"
    }
   ],
   "source": [
    "# Метасимволы \n",
    "# Приблизительное количество повторений \n",
    "\n",
    "# {m,n} - повторись от m до n раз включиительно\n",
    "# {,n} - повторись от 0 до n раз включительно \n",
    "# {m,} - повторись от m до inf+ раз включительно \n",
    "# {m,n}? - совпади по наименьшему возможному количеству символов\n",
    "\n",
    "l_str = \"фафафафа\"\n",
    "print_re_search(p_string=l_str, p_pattern=\"(фа){1,3}\")\n",
    "print_re_search(p_string=l_str, p_pattern=\"(гы){,3}\")\n",
    "print_re_search(p_string=l_str, p_pattern=\"(фа){0,}\")\n",
    "print_re_search(p_string=l_str, p_pattern=\"(фа){1,4}?\")\n"
   ]
  },
  {
   "cell_type": "code",
   "execution_count": 12,
   "id": "d323769b",
   "metadata": {},
   "outputs": [
    {
     "name": "stdout",
     "output_type": "stream",
     "text": [
      "\n",
      "Строка: \\d\n",
      "Паттерн: \\d\n",
      "Объект поиска: None\n",
      "\n",
      "Строка: \\d\n",
      "Паттерн: \\\\d\n",
      "Объект поиска: <re.Match object; span=(0, 2), match='\\\\d'>\n",
      "\n",
      "Строка: \\d\n",
      "Паттерн: \\\\d\n",
      "Объект поиска: <re.Match object; span=(0, 2), match='\\\\d'>\n"
     ]
    },
    {
     "data": {
      "text/plain": [
       "<re.Match object; span=(0, 2), match='\\\\d'>"
      ]
     },
     "execution_count": 12,
     "metadata": {},
     "output_type": "execute_result"
    }
   ],
   "source": [
    "# Метасимволы \n",
    "# \\ - для экранирования \n",
    "\n",
    "l_str = \"\\d\"\n",
    "print_re_search(p_string=l_str, p_pattern=\"\\d\")\n",
    "print_re_search(p_string=l_str, p_pattern=\"\\\\\\\\d\")\n",
    "print_re_search(p_string=l_str, p_pattern=r\"\\\\d\")\n"
   ]
  },
  {
   "cell_type": "code",
   "execution_count": 13,
   "id": "5b8e852d",
   "metadata": {},
   "outputs": [
    {
     "name": "stdout",
     "output_type": "stream",
     "text": [
      "\n",
      "Строка: a4?\n",
      "Паттерн: [abc][246][*-+?]\n",
      "Объект поиска: <re.Match object; span=(0, 3), match='a4?'>\n",
      "\n",
      "Строка: b2-\n",
      "Паттерн: [abc][246][*-+?]\n",
      "Объект поиска: None\n",
      "\n",
      "Строка: c6*\n",
      "Паттерн: [abc][246][*-+?]\n",
      "Объект поиска: <re.Match object; span=(0, 3), match='c6*'>\n",
      "\n",
      "Строка: cB17\n",
      "Паттерн: [b-x][A-I][0-5][6-9]\n",
      "Объект поиска: <re.Match object; span=(0, 4), match='cB17'>\n",
      "\n",
      "Строка: aZ60\n",
      "Паттерн: [b-x][A-I][0-5][6-9]\n",
      "Объект поиска: None\n",
      "\n",
      "Строка: .*+?{}[]\\\n",
      "Паттерн: [.*+?{}\\[\\]\\\\]+\n",
      "Объект поиска: <re.Match object; span=(0, 9), match='.*+?{}[]\\\\'>\n",
      "\n",
      "Строка: 19\n",
      "Паттерн: [^2468][^^]\n",
      "Объект поиска: <re.Match object; span=(0, 2), match='19'>\n",
      "\n",
      "Строка: 1^\n",
      "Паттерн: [^2468][^^]\n",
      "Объект поиска: None\n",
      "\n",
      "Строка: ^\n",
      "Паттерн: [a^]\n",
      "Объект поиска: <re.Match object; span=(0, 1), match='^'>\n"
     ]
    },
    {
     "data": {
      "text/plain": [
       "<re.Match object; span=(0, 1), match='^'>"
      ]
     },
     "execution_count": 13,
     "metadata": {},
     "output_type": "execute_result"
    }
   ],
   "source": [
    "# Метасимволы \n",
    "# [] - совпадение по одному из символов \n",
    "# [^] - если ^ первая, то совпадение по любому символу, кроме указанных\n",
    "# * не должна быть последней в группе\n",
    "# нужно экранировать квадратные скобки, если по ним нужно совпадение\n",
    "\n",
    "# Совпадение по любому из перечисленных символов \n",
    "l_pattern = \"[abc][246][*-+?]\"\n",
    "print_re_search(p_string=\"a4?\", p_pattern=l_pattern)\n",
    "print_re_search(p_string=\"b2-\", p_pattern=l_pattern)\n",
    "print_re_search(p_string=\"c6*\", p_pattern=l_pattern)\n",
    "\n",
    "# Можно указать диапазон, если символы следуют друг за другом \n",
    "l_pattern = \"[b-x][A-I][0-5][6-9]\"\n",
    "print_re_search(p_string=\"cB17\", p_pattern=l_pattern)\n",
    "print_re_search(p_string=\"aZ60\", p_pattern=l_pattern)\n",
    "\n",
    "# Не нужно экранировать спецсимволы - \n",
    "# не удалось сделать ничего с звездочкой в конце кроме перестановки\n",
    "# квадратные скобки надо экранировать \n",
    "# в строке, если нужен обратный слеш - его надо экранировать\n",
    "# то же самое необходимо сделать в r'..', если без r - то четыре обратных слеша\n",
    "l_pattern = r\"[.*+?{}\\[\\]\\\\]+\"\n",
    "print_re_search(p_string=\".*+?{}[]\\\\\", p_pattern=l_pattern)\n",
    "\n",
    "# Любые символы, кроме указанных\n",
    "l_pattern = \"[^2468][^^]\"\n",
    "print_re_search(p_string=\"19\", p_pattern=l_pattern)\n",
    "print_re_search(p_string=\"1^\", p_pattern=l_pattern)\n",
    "\n",
    "# Возникает вопрос, а если необходимо найти совпадение по ^ и еще какому-нибудь символу\n",
    "# Тогда - ^ не должен идти первым \n",
    "l_pattern = \"[a^]\"\n",
    "print_re_search(p_string=\"^\", p_pattern=l_pattern)\n"
   ]
  },
  {
   "cell_type": "code",
   "execution_count": 14,
   "id": "dd9122b7",
   "metadata": {},
   "outputs": [
    {
     "name": "stdout",
     "output_type": "stream",
     "text": [
      "\n",
      "Строка: abc\n",
      "Паттерн: abc|def\n",
      "Объект поиска: <re.Match object; span=(0, 3), match='abc'>\n",
      "\n",
      "Строка: def\n",
      "Паттерн: abc|def\n",
      "Объект поиска: <re.Match object; span=(0, 3), match='def'>\n",
      "\n",
      "Строка: |\n",
      "Паттерн: \\|\n",
      "Объект поиска: <re.Match object; span=(0, 1), match='|'>\n"
     ]
    },
    {
     "data": {
      "text/plain": [
       "<re.Match object; span=(0, 1), match='|'>"
      ]
     },
     "execution_count": 14,
     "metadata": {},
     "output_type": "execute_result"
    }
   ],
   "source": [
    "# Метасимволы \n",
    "# | - типа или - выбрать одно из совпадений \n",
    "\n",
    "l_pattern = \"abc|def\"\n",
    "print_re_search(p_string=\"abc\", p_pattern=l_pattern)\n",
    "print_re_search(p_string=\"def\", p_pattern=l_pattern)\n",
    "\n",
    "# Этот символ надо экранировать, если нужно найти совпадение по вертикальной черте\n",
    "l_pattern = r\"\\|\"\n",
    "print_re_search(p_string=\"|\", p_pattern=l_pattern)\n"
   ]
  },
  {
   "cell_type": "code",
   "execution_count": 15,
   "id": "b467397f",
   "metadata": {},
   "outputs": [
    {
     "name": "stdout",
     "output_type": "stream",
     "text": [
      "\n",
      "Строка: 200-Ivan-...\n",
      "Паттерн: ^(\\d+)-([a-zA-Z]+)-(\\.+)\n",
      "Объект поиска: <re.Match object; span=(0, 12), match='200-Ivan-...'>\n",
      "Группа 1: 200\n",
      "Группа 2: Ivan\n",
      "Группа 3: ...\n"
     ]
    }
   ],
   "source": [
    "# Метасимволы \n",
    "# (...) - группа\n",
    "\n",
    "# К группе можно обращаться и получать части строки, которым она соответствует\n",
    "l_pattern = r\"^(\\d+)-([a-zA-Z]+)-(\\.+)\"\n",
    "l_result = print_re_search(p_string=\"200-Ivan-...\", p_pattern=l_pattern)\n"
   ]
  },
  {
   "cell_type": "code",
   "execution_count": 16,
   "id": "cd68c31f",
   "metadata": {},
   "outputs": [
    {
     "name": "stdout",
     "output_type": "stream",
     "text": [
      "\n",
      "Строка: abc\n",
      "Паттерн: (?a)\\w{3}\n",
      "Объект поиска: <re.Match object; span=(0, 3), match='abc'>\n",
      "\n",
      "Строка: абв\n",
      "Паттерн: (?a)\\w{3}\n",
      "Объект поиска: None\n",
      "\n",
      "Строка: АБВ\n",
      "Паттерн: абв\n",
      "Объект поиска: None\n",
      "\n",
      "Строка: АБВ\n",
      "Паттерн: (?i)абв\n",
      "Объект поиска: <re.Match object; span=(0, 3), match='АБВ'>\n",
      "\n",
      "Строка: Winter is good!\n",
      "Winter is awesome!\n",
      "Winter is gorgeous\n",
      "Паттерн: ^Winter\n",
      "Результат разделения: ['', ' is good!\\nWinter is awesome!\\nWinter is gorgeous']\n",
      "\n",
      "Строка: Winter is good!\n",
      "Winter is awesome!\n",
      "Winter is gorgeous\n",
      "Паттерн: (?m)^Winter\n",
      "Результат разделения: ['', ' is good!\\n', ' is awesome!\\n', ' is gorgeous']\n",
      "\n",
      "Строка: \n",
      "\n",
      "\n",
      "\n",
      "Паттерн: .\n",
      "Результат разделения: ['\\n\\n\\n']\n",
      "\n",
      "Строка: \n",
      "\n",
      "\n",
      "\n",
      "Паттерн: (?s).\n",
      "Результат разделения: ['', '', '', '']\n",
      "\n",
      "Строка: güt это good!\n",
      "Паттерн: \\w+\n",
      "Объект поиска: <re.Match object; span=(0, 3), match='güt'>\n",
      "\n",
      "Строка: güt это good!\n",
      "Паттерн: (?a)\\w+\n",
      "Объект поиска: <re.Match object; span=(0, 1), match='g'>\n",
      "\n",
      "Строка: güt это good!\n",
      "Паттерн: (?u)\\w+\n",
      "Объект поиска: <re.Match object; span=(0, 3), match='güt'>\n",
      "\n",
      "Строка: IloveCloveEloveD\n",
      "Паттерн: (?x)\n",
      "        l # первая буква\n",
      "        o # вторая буква\n",
      "        v # третья буква\n",
      "        e # четвертая буква\n",
      "    \n",
      "Результат разделения: ['I', 'C', 'E', 'D']\n",
      "\n",
      "Строка: IloveCloveEloveD\n",
      "Паттерн: \n",
      "        l # первая буква\n",
      "        o # вторая буква\n",
      "        v # третья буква\n",
      "        e # четвертая буква\n",
      "    \n",
      "Результат разделения: ['IloveCloveEloveD']\n"
     ]
    }
   ],
   "source": [
    "# Флаги в группе - прокрашивает паттерн определенным флагом\n",
    "# (?aiLmsux)\n",
    "\n",
    "# 'a' - совпадение только по кодировке ASCII\n",
    "print_re_search(p_string=\"abc\", p_pattern=\"(?a)\\w{3}\")\n",
    "print_re_search(p_string=\"абв\", p_pattern=\"(?a)\\w{3}\")\n",
    "\n",
    "# 'i' - игнорировать регистр \n",
    "print_re_search(p_string=\"АБВ\", p_pattern=\"абв\")\n",
    "print_re_search(p_string=\"АБВ\", p_pattern=\"(?i)абв\")\n",
    "\n",
    "# 'L' - зависимость от локали \n",
    "\"\"\"\n",
    "Я пытался найти пример использования этого флага, и наткнулся на следующий тред:\n",
    "https://stackoverflow.com/questions/12240260/umlauts-in-regexp-matching-via-locale\n",
    "\n",
    "re.LOCALE just passes the character to the underlying C library. \n",
    "It really only works on bytestrings which have 1 byte per character. \n",
    "UTF-8 encodes codepoints outside the ASCII range to multiple bytes per codepoint, \n",
    "and the re module will treat each of those bytes as a separate character.\n",
    "\n",
    "И еще одна вдохновляющая цитата, из-за которой я смело пропускаю этот пример\n",
    "I think this stinking re.LOCALE flag should be removed from the documentation and never mentioned. \n",
    "It is a fake, hypocrisy and a trap for the person coding in a hurry.\n",
    "\"\"\"\n",
    "\n",
    "# 'm' - мультистроковый режим \n",
    "print_re_split(p_string=\"Winter is good!\\nWinter is awesome!\\nWinter is gorgeous\", p_pattern=\"^Winter\")\n",
    "print_re_split(p_string=\"Winter is good!\\nWinter is awesome!\\nWinter is gorgeous\", p_pattern=\"(?m)^Winter\")\n",
    "\n",
    "# 's' - . совпадает с новой строкой\n",
    "print_re_split(p_string=\"\\n\\n\\n\", p_pattern=\".\")\n",
    "print_re_split(p_string=\"\\n\\n\\n\", p_pattern=\"(?s).\")\n",
    "\n",
    "# 'u' - совпадение с unicode \n",
    "print_re_search(p_string=\"güt это good!\", p_pattern=\"\\w+\")\n",
    "print_re_search(p_string=\"güt это good!\", p_pattern=\"(?a)\\w+\")\n",
    "# Тяжело найти пример, тк в Юникоде есть практически все символы \n",
    "# + по умолчанию кодировка - UTF8, так что в этом флаге отпадает смысл\n",
    "print_re_search(p_string=\"güt это good!\", p_pattern=\"(?u)\\w+\")\n",
    "\n",
    "# 'x' - позволяет красиво писать паттерн регулярного выражения и прямо в литерале оставлять комментарии\n",
    "# но, на момент времени 22.12.2021 - дает DeprecationWarning, если флаг не в начале паттерна\n",
    "print_re_split(\n",
    "    p_string=\"IloveCloveEloveD\", \n",
    "    p_pattern=\"\"\"(?x)\n",
    "        l # первая буква\n",
    "        o # вторая буква\n",
    "        v # третья буква\n",
    "        e # четвертая буква\n",
    "    \"\"\"\n",
    ")\n",
    "\n",
    "print_re_split(\n",
    "    p_string=\"IloveCloveEloveD\", \n",
    "    p_pattern=\"\"\"\n",
    "        l # первая буква\n",
    "        o # вторая буква\n",
    "        v # третья буква\n",
    "        e # четвертая буква\n",
    "    \"\"\"\n",
    ")"
   ]
  },
  {
   "cell_type": "code",
   "execution_count": 17,
   "id": "17e6e914",
   "metadata": {},
   "outputs": [
    {
     "name": "stdout",
     "output_type": "stream",
     "text": [
      "\n",
      "Строка: Легендарный концерт: Жока и Бока\n",
      "Паттерн: (Жока).+(Бока)\n",
      "Объект поиска: <re.Match object; span=(21, 32), match='Жока и Бока'>\n",
      "Группа 1: Жока\n",
      "Группа 2: Бока\n",
      "\n",
      "Строка: Легендарный концерт: Жока и Бока\n",
      "Паттерн: (?:Жока).+(?:Бока)\n",
      "Объект поиска: <re.Match object; span=(21, 32), match='Жока и Бока'>\n"
     ]
    },
    {
     "data": {
      "text/plain": [
       "<re.Match object; span=(21, 32), match='Жока и Бока'>"
      ]
     },
     "execution_count": 17,
     "metadata": {},
     "output_type": "execute_result"
    }
   ],
   "source": [
    "# (?:...) - группа, но не попадает в память при совпадении\n",
    "print_re_search(p_string=\"Легендарный концерт: Жока и Бока\", p_pattern=\"(Жока).+(Бока)\")\n",
    "print_re_search(p_string=\"Легендарный концерт: Жока и Бока\", p_pattern=\"(?:Жока).+(?:Бока)\")"
   ]
  },
  {
   "cell_type": "code",
   "execution_count": 18,
   "id": "273f47bd",
   "metadata": {},
   "outputs": [
    {
     "name": "stdout",
     "output_type": "stream",
     "text": [
      "\n",
      "Строка: Simon and Garfunkel\n",
      "Паттерн: (?i)simon aNd GARFUNKEL\n",
      "Объект поиска: <re.Match object; span=(0, 19), match='Simon and Garfunkel'>\n",
      "\n",
      "Строка: Simon and Garfunkel\n",
      "Паттерн: (?i)simon and (?-i:GARFUNKEL)\n",
      "Объект поиска: None\n"
     ]
    }
   ],
   "source": [
    "# (?aiLmsux-imsx:...) - включение и отключение флагов\n",
    "print_re_search(p_string=\"Simon and Garfunkel\", p_pattern=\"(?i)simon aNd GARFUNKEL\")\n",
    "# А вот тут не совпадет - для каждой из групп можно задавать свои флаги \n",
    "print_re_search(p_string=\"Simon and Garfunkel\", p_pattern=\"(?i)simon and (?-i:GARFUNKEL)\")"
   ]
  },
  {
   "cell_type": "code",
   "execution_count": 19,
   "id": "f36b8482",
   "metadata": {},
   "outputs": [
    {
     "name": "stdout",
     "output_type": "stream",
     "text": [
      "\n",
      "Строка: My bonnie flies over the ocean\n",
      "Паттерн: (?P<first_word>\\w+) (?P<second_word>\\w+)\n",
      "Объект поиска: <re.Match object; span=(0, 9), match='My bonnie'>\n",
      "Группа 1: My\n",
      "Группа 2: bonnie\n",
      "\n",
      "Строка: Ding Ding Ding\n",
      "Паттерн: (?P<first_word>\\w+) (?P=first_word)\n",
      "Объект поиска: <re.Match object; span=(0, 9), match='Ding Ding'>\n",
      "\n",
      "Строка: Ding Ding Ding\n",
      "Паттерн: (?P<first_word>\\w+) \\1\n",
      "Объект поиска: <re.Match object; span=(0, 9), match='Ding Ding'>\n",
      "\n",
      "Строка: Ding Ding Ding\n",
      "Паттерн: (?P<first_word>\\w+) \u0001\n",
      "Объект поиска: None\n",
      "\n",
      "Строка: Hello Darkness\n",
      "Паттерн: (?P<first_word>\\w+) (?P=first_word)\n",
      "Объект поиска: None\n",
      "\n",
      "Строка: My bonnie flies over the ocean\n",
      "Паттерн: (?P<first_word>\\w+) (?P<second_word>\\w+)\n",
      "Объект поиска: <re.Match object; span=(0, 9), match='My bonnie'>\n",
      "Группа 1: My\n",
      "Группа 2: bonnie\n",
      "My\n",
      "bonnie\n",
      "My My My bonnie flies flies flies over the the the ocean\n"
     ]
    }
   ],
   "source": [
    "# (?P<name>) - как и обычная группа (...), но позволяет получать группу по заданному имени \n",
    "# Работает в 3-х контекстах \n",
    "l_string = \"My bonnie flies over the ocean\"\n",
    "l_pattern = \"(?P<first_word>\\w+) (?P<second_word>\\w+)\"\n",
    "print_re_search(p_string=l_string, p_pattern=l_pattern)\n",
    "\n",
    "# 1.Внутри паттерна \n",
    "l_string = \"Ding Ding Ding\"\n",
    "# Интересный нюанс, если обращаться к группе внутри паттерна, то требуется полное совпадение \n",
    "print_re_search(p_string=l_string, p_pattern=\"(?P<first_word>\\w+) (?P=first_word)\")\n",
    "\n",
    "# Без raw string - не работает\n",
    "print_re_search(p_string=l_string, p_pattern=r\"(?P<first_word>\\w+) \\1\")\n",
    "print_re_search(p_string=l_string, p_pattern=\"(?P<first_word>\\w+) \\1\")\n",
    "\n",
    "l_string = \"Hello Darkness\"\n",
    "print_re_search(p_string=l_string, p_pattern=\"(?P<first_word>\\w+) (?P=first_word)\")\n",
    "\n",
    "# 2.Внутри объекта совпадения\n",
    "l_string = \"My bonnie flies over the ocean\"\n",
    "l_pattern = \"(?P<first_word>\\w+) (?P<second_word>\\w+)\"\n",
    "l_result = print_re_search(p_string=l_string, p_pattern=l_pattern)\n",
    "print(l_result.group(\"first_word\"))\n",
    "print(l_result.group(\"second_word\"))\n",
    "\n",
    "# 3.В строке, переданной как аргумент в repl у re.sub()\n",
    "# re.sub(pattern, repl, string, count=0, flags=0)\n",
    "l_result = re.sub(\n",
    "    pattern=\"(?P<first_word>\\w+) (?P<second_word>\\w+)\",\n",
    "    repl=r\"\\g<first_word> \\g<1> \\1 \\2\",\n",
    "    string=\"My bonnie flies over the ocean\"\n",
    ")\n",
    "print(l_result)"
   ]
  },
  {
   "cell_type": "code",
   "execution_count": 20,
   "id": "93f510ae",
   "metadata": {},
   "outputs": [
    {
     "name": "stdout",
     "output_type": "stream",
     "text": [
      "\n",
      "Строка: Hello Zepp\n",
      "Паттерн: (?P<word>\\w+) (?P=word)\n",
      "Объект поиска: None\n",
      "\n",
      "Строка: Hello Hello\n",
      "Паттерн: (?P<word>\\w+) (?P=word)\n",
      "Объект поиска: <re.Match object; span=(0, 11), match='Hello Hello'>\n"
     ]
    },
    {
     "data": {
      "text/plain": [
       "<re.Match object; span=(0, 11), match='Hello Hello'>"
      ]
     },
     "execution_count": 20,
     "metadata": {},
     "output_type": "execute_result"
    }
   ],
   "source": [
    "# (?P=name) \n",
    "# Обращение к именованной группе, заданной ранее - здесь есть нюанс: \n",
    "# Последовательность символов должна полностью совпадать с именованной группой \n",
    "\n",
    "print_re_search(p_string=\"Hello Zepp\", p_pattern=\"(?P<word>\\w+) (?P=word)\")\n",
    "print_re_search(p_string=\"Hello Hello\", p_pattern=\"(?P<word>\\w+) (?P=word)\")"
   ]
  },
  {
   "cell_type": "code",
   "execution_count": 21,
   "id": "d97be3cc",
   "metadata": {},
   "outputs": [
    {
     "name": "stdout",
     "output_type": "stream",
     "text": [
      "\n",
      "Строка: (?#Comment)\n",
      "Паттерн: (?#Comment)\n",
      "Объект поиска: <re.Match object; span=(0, 0), match=''>\n",
      "\n",
      "Строка: (?#Comment)\n",
      "Паттерн: (?#Comment)\\(\\?#Comment\\)\n",
      "Объект поиска: <re.Match object; span=(0, 11), match='(?#Comment)'>\n"
     ]
    },
    {
     "data": {
      "text/plain": [
       "<re.Match object; span=(0, 11), match='(?#Comment)'>"
      ]
     },
     "execution_count": 21,
     "metadata": {},
     "output_type": "execute_result"
    }
   ],
   "source": [
    "# (?#...)\n",
    "# Просто комментарий \n",
    "\n",
    "print_re_search(p_string=\"(?#Comment)\", p_pattern=\"(?#Comment)\")\n",
    "print_re_search(p_string=\"(?#Comment)\", p_pattern=\"(?#Comment)\\(\\?#Comment\\)\")\n"
   ]
  },
  {
   "cell_type": "code",
   "execution_count": 22,
   "id": "e1108083",
   "metadata": {},
   "outputs": [
    {
     "name": "stdout",
     "output_type": "stream",
     "text": [
      "\n",
      "Строка: Александр Пушкин\n",
      "Паттерн: Александр (?=Пушкин)\n",
      "Объект поиска: <re.Match object; span=(0, 10), match='Александр '>\n"
     ]
    },
    {
     "data": {
      "text/plain": [
       "<re.Match object; span=(0, 10), match='Александр '>"
      ]
     },
     "execution_count": 22,
     "metadata": {},
     "output_type": "execute_result"
    }
   ],
   "source": [
    "# (?=...)\n",
    "# Опережающее предположение - ищет совпадение по группе, если находит, то не забирает эти символы\n",
    "\n",
    "print_re_search(p_string=\"Александр Пушкин\", p_pattern=\"Александр (?=Пушкин)\")"
   ]
  },
  {
   "cell_type": "code",
   "execution_count": 23,
   "id": "696f2005",
   "metadata": {},
   "outputs": [
    {
     "name": "stdout",
     "output_type": "stream",
     "text": [
      "\n",
      "Строка: Александр Пистолетов\n",
      "Паттерн: Александр (?!Пистолетов)\n",
      "Объект поиска: None\n",
      "\n",
      "Строка: Александр Пушкин\n",
      "Паттерн: Александр (?!Пистолетов)\n",
      "Объект поиска: <re.Match object; span=(0, 10), match='Александр '>\n"
     ]
    },
    {
     "data": {
      "text/plain": [
       "<re.Match object; span=(0, 10), match='Александр '>"
      ]
     },
     "execution_count": 23,
     "metadata": {},
     "output_type": "execute_result"
    }
   ],
   "source": [
    "# (?!...)\n",
    "# Негативное опережающее предположение - отсутствие совпадения по группе, если верно, то не забирает эти символы \n",
    "\n",
    "print_re_search(p_string=\"Александр Пистолетов\", p_pattern=\"Александр (?!Пистолетов)\")\n",
    "print_re_search(p_string=\"Александр Пушкин\", p_pattern=\"Александр (?!Пистолетов)\")"
   ]
  },
  {
   "cell_type": "code",
   "execution_count": 24,
   "id": "23e4a260",
   "metadata": {},
   "outputs": [
    {
     "name": "stdout",
     "output_type": "stream",
     "text": [
      "\n",
      "Строка: abcdef\n",
      "Паттерн: (?=abc)def\n",
      "Объект поиска: None\n",
      "\n",
      "Строка: abcdef\n",
      "Паттерн: (?<=abc)def\n",
      "Объект поиска: <re.Match object; span=(3, 6), match='def'>\n",
      "\n",
      "Строка: abcdef\n",
      "Паттерн: abc(?<=def)\n",
      "Объект поиска: None\n",
      "\n",
      "Строка: abcdef\n",
      "Паттерн: abc(?=def)\n",
      "Объект поиска: <re.Match object; span=(0, 3), match='abc'>\n",
      "\n",
      "Строка: abcdef\n",
      "Паттерн: abc(?=de)f\n",
      "Объект поиска: None\n",
      "\n",
      "Строка: abcdef\n",
      "Паттерн: a(?<=bc)def\n",
      "Объект поиска: None\n"
     ]
    }
   ],
   "source": [
    "# (?<=...)\n",
    "# Положительное ретроспективное предположение\n",
    "\n",
    "# Должно находиться строго в начале\n",
    "print_re_search(p_string=\"abcdef\", p_pattern=\"(?=abc)def\")\n",
    "print_re_search(p_string=\"abcdef\", p_pattern=\"(?<=abc)def\")\n",
    "\n",
    "# Должно находиться строго в конце\n",
    "print_re_search(p_string=\"abcdef\", p_pattern=\"abc(?<=def)\")\n",
    "print_re_search(p_string=\"abcdef\", p_pattern=\"abc(?=def)\")\n",
    "\n",
    "# Контрпримеры, показывающие, что применение выражения \n",
    "# должно находиться строго в определенной позиции \n",
    "print_re_search(p_string=\"abcdef\", p_pattern=\"abc(?=de)f\")\n",
    "print_re_search(p_string=\"abcdef\", p_pattern=\"a(?<=bc)def\")\n"
   ]
  },
  {
   "cell_type": "code",
   "execution_count": 25,
   "id": "02266eba",
   "metadata": {},
   "outputs": [
    {
     "name": "stdout",
     "output_type": "stream",
     "text": [
      "\n",
      "Строка: abcdef\n",
      "Паттерн: (?<!abc)def\n",
      "Объект поиска: None\n",
      "\n",
      "Строка: abcdef\n",
      "Паттерн: (?<!def)def\n",
      "Объект поиска: <re.Match object; span=(3, 6), match='def'>\n",
      "\n",
      "Строка: abcdef\n",
      "Паттерн: abc(?<!ff)f\n",
      "Объект поиска: None\n"
     ]
    }
   ],
   "source": [
    "# (?<!...)\n",
    "# Негативное ретроспективное предположение \n",
    "# Тоже должно быть строго в начале \n",
    "\n",
    "print_re_search(p_string=\"abcdef\", p_pattern=\"(?<!abc)def\")\n",
    "print_re_search(p_string=\"abcdef\", p_pattern=\"(?<!def)def\")\n",
    "print_re_search(p_string=\"abcdef\", p_pattern=\"abc(?<!ff)f\")"
   ]
  },
  {
   "cell_type": "code",
   "execution_count": 26,
   "id": "cc0bd954",
   "metadata": {},
   "outputs": [
    {
     "name": "stdout",
     "output_type": "stream",
     "text": [
      "\n",
      "Строка: <word>\n",
      "Паттерн: (<)?(\\w+)(?(1)>|$)\n",
      "Объект поиска: <re.Match object; span=(0, 6), match='<word>'>\n",
      "Группа 1: <\n",
      "Группа 2: word\n",
      "\n",
      "Строка: word\n",
      "Паттерн: (<)?(\\w+)(?(1)>|$)\n",
      "Объект поиска: <re.Match object; span=(0, 4), match='word'>\n",
      "Группа 1: None\n",
      "Группа 2: word\n"
     ]
    },
    {
     "data": {
      "text/plain": [
       "<re.Match object; span=(0, 4), match='word'>"
      ]
     },
     "execution_count": 26,
     "metadata": {},
     "output_type": "execute_result"
    }
   ],
   "source": [
    "# (?(id/name)yes-pattern|no-pattern)\n",
    "# Кое-как понял и разобрался исходя из примеров - очень маловероятно, что буду использовать\n",
    "\n",
    "print_re_search(p_string=\"<word>\", p_pattern=\"(<)?(\\w+)(?(1)>|$)\")\n",
    "print_re_search(p_string=\"word\", p_pattern=\"(<)?(\\w+)(?(1)>|$)\")\n"
   ]
  },
  {
   "cell_type": "code",
   "execution_count": 27,
   "id": "e164102f",
   "metadata": {},
   "outputs": [
    {
     "name": "stdout",
     "output_type": "stream",
     "text": [
      "\n",
      "Строка: a a b b c c\n",
      "Паттерн: (a) \\1 (b) \\2 (c) \\3\n",
      "Объект поиска: <re.Match object; span=(0, 11), match='a a b b c c'>\n",
      "Группа 1: a\n",
      "Группа 2: b\n",
      "Группа 3: c\n"
     ]
    },
    {
     "data": {
      "text/plain": [
       "<re.Match object; span=(0, 11), match='a a b b c c'>"
      ]
     },
     "execution_count": 27,
     "metadata": {},
     "output_type": "execute_result"
    }
   ],
   "source": [
    "# Специальные символы (метасимволы)\n",
    "# \\number - порядковый номер группы в паттерне, по которому ищется совпадение \n",
    "# Не забывать использовать raw string notation - иначе номерные группы не читаются \n",
    "print_re_search(p_string=\"a a b b c c\", p_pattern=r\"(a) \\1 (b) \\2 (c) \\3\")"
   ]
  },
  {
   "cell_type": "code",
   "execution_count": 28,
   "id": "0a6291b9",
   "metadata": {},
   "outputs": [
    {
     "name": "stdout",
     "output_type": "stream",
     "text": [
      "\n",
      "Строка: Start of string\n",
      "Паттерн: \\A\\w{3}\n",
      "Объект поиска: <re.Match object; span=(0, 3), match='Sta'>\n"
     ]
    },
    {
     "data": {
      "text/plain": [
       "<re.Match object; span=(0, 3), match='Sta'>"
      ]
     },
     "execution_count": 28,
     "metadata": {},
     "output_type": "execute_result"
    }
   ],
   "source": [
    "# \\A - совпадение со стартом строки \n",
    "print_re_search(p_string=\"Start of string\", p_pattern=r\"\\A\\w{3}\")"
   ]
  },
  {
   "cell_type": "code",
   "execution_count": 29,
   "id": "c2b683a2",
   "metadata": {},
   "outputs": [
    {
     "name": "stdout",
     "output_type": "stream",
     "text": [
      "\n",
      "Строка: Peter\n",
      "Паттерн: \\bPeter\\b\n",
      "Объект поиска: <re.Match object; span=(0, 5), match='Peter'>\n",
      "\n",
      "Строка: PeterPan\n",
      "Паттерн: \\bPeter\\b\n",
      "Объект поиска: None\n"
     ]
    }
   ],
   "source": [
    "# \\b - пустая строка - символ \"забоя\" - до слова и после слова \n",
    "print_re_search(p_string=\"Peter\", p_pattern=r\"\\bPeter\\b\")\n",
    "print_re_search(p_string=\"PeterPan\", p_pattern=r\"\\bPeter\\b\")"
   ]
  },
  {
   "cell_type": "code",
   "execution_count": 30,
   "id": "8db99049",
   "metadata": {},
   "outputs": [
    {
     "name": "stdout",
     "output_type": "stream",
     "text": [
      "\n",
      "Строка: Peter\n",
      "Паттерн: \\Bete\\B\n",
      "Объект поиска: <re.Match object; span=(1, 4), match='ete'>\n",
      "\n",
      "Строка: Peter\n",
      "Паттерн: \\BPeter\\B\n",
      "Объект поиска: None\n"
     ]
    }
   ],
   "source": [
    "# \\B - совпадает с пустой строкой, когда это не конец и не начало слова \n",
    "# обратное \\b\n",
    "print_re_search(p_string=\"Peter\", p_pattern=r\"\\Bete\\B\")\n",
    "print_re_search(p_string=\"Peter\", p_pattern=r\"\\BPeter\\B\")"
   ]
  },
  {
   "cell_type": "code",
   "execution_count": 31,
   "id": "df27dc71",
   "metadata": {},
   "outputs": [
    {
     "name": "stdout",
     "output_type": "stream",
     "text": [
      "\n",
      "Строка: Happy 2022!\n",
      "Паттерн: \\d{4}\n",
      "Объект поиска: <re.Match object; span=(6, 10), match='2022'>\n"
     ]
    },
    {
     "data": {
      "text/plain": [
       "<re.Match object; span=(6, 10), match='2022'>"
      ]
     },
     "execution_count": 31,
     "metadata": {},
     "output_type": "execute_result"
    }
   ],
   "source": [
    "# \\d - совпадает с любым числовым символом Юникода \n",
    "print_re_search(p_string=\"Happy 2022!\", p_pattern=r\"\\d{4}\")"
   ]
  },
  {
   "cell_type": "code",
   "execution_count": 32,
   "id": "5f8b3dcc",
   "metadata": {},
   "outputs": [
    {
     "name": "stdout",
     "output_type": "stream",
     "text": [
      "\n",
      "Строка: 123 One two three 123\n",
      "Паттерн: \\D+\n",
      "Объект поиска: <re.Match object; span=(3, 18), match=' One two three '>\n"
     ]
    },
    {
     "data": {
      "text/plain": [
       "<re.Match object; span=(3, 18), match=' One two three '>"
      ]
     },
     "execution_count": 32,
     "metadata": {},
     "output_type": "execute_result"
    }
   ],
   "source": [
    "# \\D - противоположность \\d - все то, что не является числовым символом  \n",
    "# Действительно, совпадает со всем, кроме чисел \n",
    "print_re_search(p_string=\"123 One two three 123\", p_pattern=r\"\\D+\")"
   ]
  },
  {
   "cell_type": "code",
   "execution_count": 33,
   "id": "2601fe64",
   "metadata": {},
   "outputs": [
    {
     "name": "stdout",
     "output_type": "stream",
     "text": [
      "\n",
      "Строка: Hello darkness, my all friend!\n",
      "Паттерн: \\s+\n",
      "Результат разделения: ['Hello', 'darkness,', 'my', 'all', 'friend!']\n"
     ]
    }
   ],
   "source": [
    "# \\s - совпадает с любым пробельным символом  \n",
    "# Самые распространенные: горизонтальная табуляция (\\t), новая строка (\\n), \n",
    "# возврат каретки (\\r) - Перемещает позицию печати в крайнее левое положение (исходно — без перевода на следующую строку)\n",
    "# смена страницы (\\f) - form feed - Выбрасывает текущую страницу и начинает печать со следующей\n",
    "# вертикальная табуляция (\\v)\n",
    "\n",
    "print_re_split(p_string=\"Hello darkness, my all friend!\", p_pattern=r\"\\s+\")"
   ]
  },
  {
   "cell_type": "code",
   "execution_count": 47,
   "id": "623bc7fc",
   "metadata": {},
   "outputs": [
    {
     "name": "stdout",
     "output_type": "stream",
     "text": [
      "\n",
      "Строка: \n",
      "\r",
      "\t\u000b",
      "\f",
      " Oh,hi,Mark! \n",
      "\r",
      "\t\u000b",
      "\f",
      "\n",
      "Паттерн: (\\S+)\n",
      "Объект поиска: <re.Match object; span=(6, 17), match='Oh,hi,Mark!'>\n"
     ]
    },
    {
     "data": {
      "text/plain": [
       "<re.Match object; span=(6, 17), match='Oh,hi,Mark!'>"
      ]
     },
     "execution_count": 47,
     "metadata": {},
     "output_type": "execute_result"
    }
   ],
   "source": [
    "# \\S - противоположность \\s - любой символ, кроме пробельного \n",
    "print_re_search(p_string=\"\\n\\r\\t\\v\\f Oh,hi,Mark! \\n\\r\\t\\v\\f\", p_pattern=r\"(\\S+)\")"
   ]
  },
  {
   "cell_type": "code",
   "execution_count": 50,
   "id": "d6142f14",
   "metadata": {},
   "outputs": [
    {
     "name": "stdout",
     "output_type": "stream",
     "text": [
      "\n",
      "Строка: Oh123, hi987, Mark___!\n",
      "Паттерн: (\\w+), (\\w+), (\\w+)!\n",
      "Объект поиска: <re.Match object; span=(0, 22), match='Oh123, hi987, Mark___!'>\n",
      "Группа 1: Oh123\n",
      "Группа 2: hi987\n",
      "Группа 3: Mark___\n"
     ]
    },
    {
     "data": {
      "text/plain": [
       "<re.Match object; span=(0, 22), match='Oh123, hi987, Mark___!'>"
      ]
     },
     "execution_count": 50,
     "metadata": {},
     "output_type": "execute_result"
    }
   ],
   "source": [
    "# \\w - для unicode - все символы, из которых может быть составлено слово, числа и нижнее подчеркивание \n",
    "print_re_search(p_string=\"Oh123, hi987, Mark___!\", p_pattern=r\"(\\w+), (\\w+), (\\w+)!\")"
   ]
  },
  {
   "cell_type": "code",
   "execution_count": 51,
   "id": "3f1f41b5",
   "metadata": {},
   "outputs": [
    {
     "name": "stdout",
     "output_type": "stream",
     "text": [
      "\n",
      "Строка: Oh, hi, Mark!\n",
      "Паттерн: \\W+\n",
      "Результат разделения: ['Oh', 'hi', 'Mark', '']\n"
     ]
    }
   ],
   "source": [
    "# \\W - противоположность \\w - все те символы, из которых нельзя составить слово, не числа, не нижнее подчеркивание \n",
    "print_re_split(p_string=\"Oh, hi, Mark!\", p_pattern=r\"\\W+\")"
   ]
  },
  {
   "cell_type": "code",
   "execution_count": 54,
   "id": "a806711a",
   "metadata": {},
   "outputs": [
    {
     "name": "stdout",
     "output_type": "stream",
     "text": [
      "\n",
      "Строка: This is the end, my beautiful friend\n",
      "Паттерн: \\w+\\Z\n",
      "Объект поиска: <re.Match object; span=(30, 36), match='friend'>\n"
     ]
    },
    {
     "data": {
      "text/plain": [
       "<re.Match object; span=(30, 36), match='friend'>"
      ]
     },
     "execution_count": 54,
     "metadata": {},
     "output_type": "execute_result"
    }
   ],
   "source": [
    "# \\Z - совпадение только с концом строки \n",
    "print_re_search(p_string=\"This is the end, my beautiful friend\", p_pattern=r\"\\w+\\Z\")"
   ]
  },
  {
   "cell_type": "code",
   "execution_count": null,
   "id": "3960fea1",
   "metadata": {},
   "outputs": [],
   "source": []
  }
 ],
 "metadata": {
  "kernelspec": {
   "display_name": "Python 3 (ipykernel)",
   "language": "python",
   "name": "python3"
  },
  "language_info": {
   "codemirror_mode": {
    "name": "ipython",
    "version": 3
   },
   "file_extension": ".py",
   "mimetype": "text/x-python",
   "name": "python",
   "nbconvert_exporter": "python",
   "pygments_lexer": "ipython3",
   "version": "3.8.5"
  }
 },
 "nbformat": 4,
 "nbformat_minor": 5
}
