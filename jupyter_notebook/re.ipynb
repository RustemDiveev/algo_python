{
 "cells": [
  {
   "cell_type": "code",
   "execution_count": 20,
   "id": "0a6ff04a",
   "metadata": {},
   "outputs": [],
   "source": [
    "import re \n",
    "\n",
    "# Синтаксис регулярных выражений \n",
    "    # Метасимволы \n",
    "    # Специальные символы \n",
    "# Основные методы (shortcuts)\n",
    "# Объект Pattern \n",
    "# Объект Match \n",
    "# Примеры\n",
    "\n",
    "# Все-таки, нужны хэлперы, чтобы красиво показывать и демонстрировать разницу \n",
    "def print_re_search(p_string: str, p_pattern: str) -> re.Match:\n",
    "    \"\"\"\n",
    "        Выводит результат применения re.search \n",
    "        input: \n",
    "            p_string - искомая строка \n",
    "            p_pattern - паттерн регулярного выражения \n",
    "    \"\"\"\n",
    "    l_result = re.search(p_pattern, p_string)\n",
    "    print(\n",
    "        \"\\nСтрока: \" + p_string,\n",
    "        \"Паттерн: \" + p_pattern,\n",
    "        \"Объект поиска: \" + str(l_result),\n",
    "        sep=\"\\n\"\n",
    "    )\n",
    "    return l_result\n",
    "    \n",
    "def print_re_match(p_string: str, p_pattern: str):\n",
    "    \"\"\"\n",
    "        Выводит результат применения re.match \n",
    "        input: \n",
    "            p_string - искомая строка \n",
    "            p_pattern - паттерн регулярного выражения \n",
    "    \"\"\"\n",
    "    print(\n",
    "        \"\\nСтрока: \" + p_string,\n",
    "        \"Паттерн: \" + p_pattern,\n",
    "        \"Объект поиска: \" + str(re.match(p_pattern, p_string)),\n",
    "        sep=\"\\n\"\n",
    "    )\n",
    "    \n",
    "def print_re_split(p_string: str, p_pattern: str, p_flags: int=0):\n",
    "    \"\"\"\n",
    "        Выводит результат применения re.split\n",
    "        input:\n",
    "            p_string - искомая строка \n",
    "            p_pattern - паттерн регулярного выражения \n",
    "            p_flags - флаги регулярных выражений\n",
    "    \"\"\"\n",
    "    print(\n",
    "        \"\\nСтрока: \" + p_string,\n",
    "        \"Паттерн: \" + p_pattern,\n",
    "        \"Результат разделения: \" + str(re.split(p_pattern, p_string, flags=p_flags)),\n",
    "        sep=\"\\n\"\n",
    "    )\n",
    "    "
   ]
  },
  {
   "cell_type": "code",
   "execution_count": 2,
   "id": "cd5702fd",
   "metadata": {},
   "outputs": [
    {
     "name": "stdout",
     "output_type": "stream",
     "text": [
      "\n",
      "Строка: \\I'm a backslash\n",
      "Паттерн: \\\\\n",
      "Объект поиска: <re.Match object; span=(0, 1), match='\\\\'>\n",
      "\n",
      "Строка: \\I'm a backslash\n",
      "Паттерн: \\\\\n",
      "Объект поиска: <re.Match object; span=(0, 1), match='\\\\'>\n"
     ]
    },
    {
     "data": {
      "text/plain": [
       "True"
      ]
     },
     "execution_count": 2,
     "metadata": {},
     "output_type": "execute_result"
    }
   ],
   "source": [
    "# Разница между обычным строковым литералом '...' и r'...' (Raw string notation)\n",
    "# Например, если мы хотим найти совпадение по обратному слешу\n",
    "print_re_search(p_string=\"\\I'm a backslash\", p_pattern=\"\\\\\\\\\")\n",
    "print_re_search(p_string=\"\\I'm a backslash\", p_pattern=r\"\\\\\")\n",
    "\n",
    "\"\\\\\\\\\" == r\"\\\\\"\n"
   ]
  },
  {
   "cell_type": "code",
   "execution_count": 3,
   "id": "6e02f255",
   "metadata": {},
   "outputs": [
    {
     "name": "stdout",
     "output_type": "stream",
     "text": [
      "\n",
      "Строка: \n",
      "Паттерн: .\n",
      "Объект поиска: None\n",
      "\n",
      "Строка: \n",
      "\n",
      "Паттерн: .\n",
      "Объект поиска: None\n",
      "\n",
      "Строка:  a1\\+\n",
      "Паттерн: .\n",
      "Результат разделения: ['', '', '', '', '', '']\n",
      "\n",
      "Строка: Line 1 \n",
      "Line 2\n",
      "\n",
      "Паттерн: .\n",
      "Результат разделения: ['', '', '', '', '', '', '', '\\n', '', '', '', '', '', '\\n']\n",
      "\n",
      "Строка: Line 1 \n",
      "Line 2\n",
      "\n",
      "Паттерн: .\n",
      "Результат разделения: ['', '', '', '', '', '', '', '', '', '', '', '', '', '', '', '']\n",
      "\n",
      "Указывай параметр с флагами явно!\n",
      "['', '', '', '', '', '', '', '\\n', '', '', '', '', '', '\\n']\n",
      "['', '', '', '', '', '', '', '', '', '', '', '', '', '', '', '']\n"
     ]
    }
   ],
   "source": [
    "# Метасимволы \n",
    "\n",
    "# . - любой символ \n",
    "print_re_search(p_string=\"\", p_pattern=\".\") # Не находит совпадения по пустой строке\n",
    "print_re_search(p_string=\"\\n\", p_pattern=\".\") # Не находит совпадения по новой строке\n",
    "print_re_split(p_string=' a1\\+', p_pattern=r'.') # Совпадает во всех местах\n",
    "\n",
    "# Строковой литерал на несколько строк\n",
    "l_string = \"\"\"Line 1 \n",
    "Line 2\n",
    "\"\"\"\n",
    "print_re_split(p_string=l_string, p_pattern=r'.')\n",
    "   \n",
    "# Если выставлен DOTALL то совпадает и с символом новой строки\n",
    "print_re_split(p_string=l_string, p_pattern=r'.', p_flags=re.DOTALL)\n",
    "\n",
    "# Необходимо явно указывать параметр с флагами \n",
    "# Пруфы ниже \n",
    "print(\"\\nУказывай параметр с флагами явно!\")\n",
    "print(re.split(r'.', l_string, re.DOTALL))\n",
    "print(re.split(r'.', l_string, flags=re.DOTALL))\n"
   ]
  },
  {
   "cell_type": "code",
   "execution_count": 4,
   "id": "5ddaa3b3",
   "metadata": {},
   "outputs": [
    {
     "name": "stdout",
     "output_type": "stream",
     "text": [
      "\n",
      "Строка: beggar\n",
      "Паттерн: ^b\n",
      "Объект поиска: <re.Match object; span=(0, 1), match='b'>\n",
      "\n",
      "Строка: beggar\n",
      "Паттерн: b\n",
      "Объект поиска: <re.Match object; span=(0, 1), match='b'>\n",
      "\n",
      "Строка: Раз \n",
      "Два \n",
      "Три \n",
      "Четыре\n",
      "Паттерн: ^\n",
      "Результат разделения: ['', 'Раз \\nДва \\nТри \\nЧетыре']\n",
      "\n",
      "Строка: Раз \n",
      "Два \n",
      "Три \n",
      "Четыре\n",
      "Паттерн: ^\n",
      "Результат разделения: ['', 'Раз \\n', 'Два \\n', 'Три \\n', 'Четыре']\n"
     ]
    }
   ],
   "source": [
    "# Метасимволы \n",
    "# ^ - начало строки \n",
    "print_re_search(p_string=\"beggar\", p_pattern=\"^b\")\n",
    "print_re_match(p_string=\"beggar\", p_pattern=\"b\")\n",
    "# re.search(\"^...\") == re.match(\"...\")\n",
    "\n",
    "# Если включен MULTILINE, то совпадает с позицией после новой строки \n",
    "l_string = \"\"\"Раз \n",
    "Два \n",
    "Три \n",
    "Четыре\"\"\"\n",
    "print_re_split(p_string=l_string, p_pattern=\"^\")\n",
    "print_re_split(p_string=l_string, p_pattern=\"^\", p_flags=re.MULTILINE)"
   ]
  },
  {
   "cell_type": "code",
   "execution_count": 5,
   "id": "79481fb2",
   "metadata": {},
   "outputs": [
    {
     "name": "stdout",
     "output_type": "stream",
     "text": [
      "a\n",
      "<re.Match object; span=(4, 6), match='ed'>\n",
      "b\n",
      "['a\\nb\\nc\\nd', '']\n",
      "['a\\nb\\nc\\nd', '\\n', '']\n",
      "['a', '\\nb', '\\nc', '\\nd', '\\n', '']\n"
     ]
    }
   ],
   "source": [
    "# Метасимволы \n",
    "# $ - конец строки \n",
    "\n",
    "print(\"a\")\n",
    "a = re.search(\"ed$\", \"dashed\")\n",
    "print(a)\n",
    "\n",
    "# Пример с несколькими строками \n",
    "print(\"b\")\n",
    "l_string = \"a\\nb\\nc\\nd\"\n",
    "b = re.split(\"$\", l_string)\n",
    "print(b)\n",
    "# Это очень странно - совпадает в 2х местах (это написано в документации)\n",
    "l_string = \"a\\nb\\nc\\nd\\n\"\n",
    "b = re.split(\"$\", l_string)\n",
    "print(b)\n",
    "# Если включен MULTILINE, то совпадает с позицией до новой строки\n",
    "b = re.split(\"$\", l_string, flags=re.MULTILINE)\n",
    "print(b)"
   ]
  },
  {
   "cell_type": "code",
   "execution_count": 6,
   "id": "c63d12e4",
   "metadata": {},
   "outputs": [
    {
     "name": "stdout",
     "output_type": "stream",
     "text": [
      "\n",
      "Строка: Hello\n",
      "Паттерн: l*\n",
      "Результат разделения: ['', 'H', 'e', '', 'o', '']\n",
      "\n",
      "Строка: Hello\n",
      "Паттерн: l*?\n",
      "Результат разделения: ['', 'H', 'e', '', '', '', '', 'o', '']\n"
     ]
    }
   ],
   "source": [
    "# Метасимволы \n",
    "# * - повторение символов от 0 до плюс бесконечности, спереди указывается символ или группа\n",
    "# У квантификатора всегда должен быть хотя бы 1 символ, по которому он будет искать повторение\n",
    "\n",
    "\"\"\"\n",
    "# Так делать нельзя - упадет с неотловленной ошибкой\n",
    "a = re.split(\"*\", \"Hello\")\n",
    "print(a)\n",
    "\"\"\"\n",
    "\n",
    "# Жадный оператор, схавал обе l \n",
    "print_re_split(p_string=\"Hello\", p_pattern=\"l*\")\n",
    "\n",
    "# Нежадный оператор, нашел все совпадения (до первой l, после первой l, до второй l, после второй l)\n",
    "print_re_split(p_string=\"Hello\", p_pattern=\"l*?\")\n"
   ]
  },
  {
   "cell_type": "code",
   "execution_count": 7,
   "id": "dafb06c7",
   "metadata": {},
   "outputs": [
    {
     "name": "stdout",
     "output_type": "stream",
     "text": [
      "\n",
      "Строка: abaabaaab\n",
      "Паттерн: a+\n",
      "Результат разделения: ['', 'b', 'b', 'b']\n",
      "\n",
      "Строка: abaabaaab\n",
      "Паттерн: a+?\n",
      "Результат разделения: ['', 'b', '', 'b', '', '', 'b']\n"
     ]
    }
   ],
   "source": [
    "# Метасимволы \n",
    "# + - повторение символов от 1 до плюс бесконечности\n",
    "print_re_split(p_string=\"abaabaaab\", p_pattern=\"a+\")\n",
    "\n",
    "print_re_split(p_string=\"abaabaaab\", p_pattern=\"a+?\")\n"
   ]
  },
  {
   "cell_type": "code",
   "execution_count": 8,
   "id": "dccd707a",
   "metadata": {},
   "outputs": [
    {
     "name": "stdout",
     "output_type": "stream",
     "text": [
      "\n",
      "Строка: Svetloye solntce\n",
      "Паттерн: Svetloye (pivo)?\n",
      "Объект поиска: <re.Match object; span=(0, 9), match='Svetloye '>\n",
      "\n",
      "Строка: Svetloye \n",
      "Паттерн: Svetloye (pivo)?\n",
      "Объект поиска: <re.Match object; span=(0, 9), match='Svetloye '>\n",
      "\n",
      "Строка: Svetloye pivo\n",
      "Паттерн: Svetloye (pivo)?\n",
      "Объект поиска: <re.Match object; span=(0, 13), match='Svetloye pivo'>\n"
     ]
    }
   ],
   "source": [
    "# Метасимволы \n",
    "# ? - повторение символов от 0 до 1 раза \n",
    "\n",
    "l_pattern = 'Svetloye (pivo)?'\n",
    "print_re_search(p_string='Svetloye solntce', p_pattern=l_pattern)\n",
    "print_re_search(p_string='Svetloye ', p_pattern=l_pattern)\n",
    "print_re_search(p_string='Svetloye pivo', p_pattern=l_pattern)\n"
   ]
  },
  {
   "cell_type": "code",
   "execution_count": 9,
   "id": "500b40bd",
   "metadata": {},
   "outputs": [
    {
     "name": "stdout",
     "output_type": "stream",
     "text": [
      "\n",
      "* vs *?\n",
      "\n",
      "Строка: aabbcc\n",
      "Паттерн: ^a*\n",
      "Объект поиска: <re.Match object; span=(0, 2), match='aa'>\n",
      "\n",
      "Строка: aabbcc\n",
      "Паттерн: ^a*?\n",
      "Объект поиска: <re.Match object; span=(0, 0), match=''>\n",
      "\n",
      "+ vs +?\n",
      "\n",
      "Строка: aaaaaaabc\n",
      "Паттерн: ^a+\n",
      "Объект поиска: <re.Match object; span=(0, 7), match='aaaaaaa'>\n",
      "\n",
      "Строка: aaaaaaabc\n",
      "Паттерн: ^a+?\n",
      "Объект поиска: <re.Match object; span=(0, 1), match='a'>\n",
      "\n",
      "? vs ??\n",
      "\n",
      "Строка: aabc\n",
      "Паттерн: ^a?\n",
      "Объект поиска: <re.Match object; span=(0, 1), match='a'>\n",
      "\n",
      "Строка: aabc\n",
      "Паттерн: ^a??\n",
      "Объект поиска: <re.Match object; span=(0, 0), match=''>\n"
     ]
    }
   ],
   "source": [
    "# Метасимволы \n",
    "# Жадные vs щедрые квантификаторы \n",
    "\n",
    "# *, +, ? - жадины \n",
    "# *?, +?, ?? - меценаты \n",
    "\n",
    "print(\"\\n* vs *?\")\n",
    "l_str = \"aabbcc\"\n",
    "print_re_search(p_string=l_str, p_pattern='^a*')\n",
    "print_re_search(p_string=l_str, p_pattern='^a*?')\n",
    "\n",
    "print(\"\\n+ vs +?\")\n",
    "l_str = \"aaaaaaabc\"\n",
    "print_re_search(p_string=l_str, p_pattern='^a+')\n",
    "print_re_search(p_string=l_str, p_pattern='^a+?')\n",
    "\n",
    "print(\"\\n? vs ??\")\n",
    "l_str = \"aabc\"\n",
    "print_re_search(p_string=l_str, p_pattern=\"^a?\")\n",
    "print_re_search(p_string=l_str, p_pattern=\"^a??\")\n"
   ]
  },
  {
   "cell_type": "code",
   "execution_count": 10,
   "id": "63a705ab",
   "metadata": {},
   "outputs": [
    {
     "name": "stdout",
     "output_type": "stream",
     "text": [
      "\n",
      "Строка: xyzxyzxyz\n",
      "Паттерн: (xyz){2}$\n",
      "Объект поиска: None\n",
      "\n",
      "Строка: xyzxyzxyz\n",
      "Паттерн: (xyz){3}$\n",
      "Объект поиска: <re.Match object; span=(0, 9), match='xyzxyzxyz'>\n"
     ]
    }
   ],
   "source": [
    "# Метасимволы \n",
    "# Точное количество повторений \n",
    "\n",
    "# {m} - повторись ровно m раз \n",
    "\n",
    "l_str = \"xyzxyzxyz\"\n",
    "print_re_match(p_string=l_str, p_pattern=\"(xyz){2}$\")\n",
    "print_re_match(p_string=l_str, p_pattern=\"(xyz){3}$\")\n"
   ]
  },
  {
   "cell_type": "code",
   "execution_count": 11,
   "id": "443c1684",
   "metadata": {},
   "outputs": [
    {
     "name": "stdout",
     "output_type": "stream",
     "text": [
      "\n",
      "Строка: фафафафа\n",
      "Паттерн: (фа){1,3}\n",
      "Объект поиска: <re.Match object; span=(0, 6), match='фафафа'>\n",
      "\n",
      "Строка: фафафафа\n",
      "Паттерн: (гы){,3}\n",
      "Объект поиска: <re.Match object; span=(0, 0), match=''>\n",
      "\n",
      "Строка: фафафафа\n",
      "Паттерн: (фа){0,}\n",
      "Объект поиска: <re.Match object; span=(0, 8), match='фафафафа'>\n",
      "\n",
      "Строка: фафафафа\n",
      "Паттерн: (фа){1,4}?\n",
      "Объект поиска: <re.Match object; span=(0, 2), match='фа'>\n"
     ]
    }
   ],
   "source": [
    "# Метасимволы \n",
    "# Приблизительное количество повторений \n",
    "\n",
    "# {m,n} - повторись от m до n раз включиительно\n",
    "# {,n} - повторись от 0 до n раз включительно \n",
    "# {m,} - повторись от m до inf+ раз включительно \n",
    "# {m,n}? - совпади по наименьшему возможному количеству символов\n",
    "\n",
    "l_str = \"фафафафа\"\n",
    "print_re_search(p_string=l_str, p_pattern=\"(фа){1,3}\")\n",
    "print_re_search(p_string=l_str, p_pattern=\"(гы){,3}\")\n",
    "print_re_search(p_string=l_str, p_pattern=\"(фа){0,}\")\n",
    "print_re_search(p_string=l_str, p_pattern=\"(фа){1,4}?\")\n"
   ]
  },
  {
   "cell_type": "code",
   "execution_count": 12,
   "id": "d323769b",
   "metadata": {},
   "outputs": [
    {
     "name": "stdout",
     "output_type": "stream",
     "text": [
      "\n",
      "Строка: \\d\n",
      "Паттерн: \\d\n",
      "Объект поиска: None\n",
      "\n",
      "Строка: \\d\n",
      "Паттерн: \\\\d\n",
      "Объект поиска: <re.Match object; span=(0, 2), match='\\\\d'>\n",
      "\n",
      "Строка: \\d\n",
      "Паттерн: \\\\d\n",
      "Объект поиска: <re.Match object; span=(0, 2), match='\\\\d'>\n"
     ]
    }
   ],
   "source": [
    "# Метасимволы \n",
    "# \\ - для экранирования \n",
    "\n",
    "l_str = \"\\d\"\n",
    "print_re_search(p_string=l_str, p_pattern=\"\\d\")\n",
    "print_re_search(p_string=l_str, p_pattern=\"\\\\\\\\d\")\n",
    "print_re_search(p_string=l_str, p_pattern=r\"\\\\d\")\n"
   ]
  },
  {
   "cell_type": "code",
   "execution_count": 13,
   "id": "5b8e852d",
   "metadata": {},
   "outputs": [
    {
     "name": "stdout",
     "output_type": "stream",
     "text": [
      "\n",
      "Строка: a4?\n",
      "Паттерн: [abc][246][*-+?]\n",
      "Объект поиска: <re.Match object; span=(0, 3), match='a4?'>\n",
      "\n",
      "Строка: b2-\n",
      "Паттерн: [abc][246][*-+?]\n",
      "Объект поиска: None\n",
      "\n",
      "Строка: c6*\n",
      "Паттерн: [abc][246][*-+?]\n",
      "Объект поиска: <re.Match object; span=(0, 3), match='c6*'>\n",
      "\n",
      "Строка: cB17\n",
      "Паттерн: [b-x][A-I][0-5][6-9]\n",
      "Объект поиска: <re.Match object; span=(0, 4), match='cB17'>\n",
      "\n",
      "Строка: aZ60\n",
      "Паттерн: [b-x][A-I][0-5][6-9]\n",
      "Объект поиска: None\n",
      "\n",
      "Строка: .*+?{}[]\\\n",
      "Паттерн: [.*+?{}\\[\\]\\\\]+\n",
      "Объект поиска: <re.Match object; span=(0, 9), match='.*+?{}[]\\\\'>\n",
      "\n",
      "Строка: 19\n",
      "Паттерн: [^2468][^^]\n",
      "Объект поиска: <re.Match object; span=(0, 2), match='19'>\n",
      "\n",
      "Строка: 1^\n",
      "Паттерн: [^2468][^^]\n",
      "Объект поиска: None\n",
      "\n",
      "Строка: ^\n",
      "Паттерн: [a^]\n",
      "Объект поиска: <re.Match object; span=(0, 1), match='^'>\n"
     ]
    }
   ],
   "source": [
    "# Метасимволы \n",
    "# [] - совпадение по одному из символов \n",
    "# [^] - если ^ первая, то совпадение по любому символу, кроме указанных\n",
    "# * не должна быть последней в группе\n",
    "# нужно экранировать квадратные скобки, если по ним нужно совпадение\n",
    "\n",
    "# Совпадение по любому из перечисленных символов \n",
    "l_pattern = \"[abc][246][*-+?]\"\n",
    "print_re_search(p_string=\"a4?\", p_pattern=l_pattern)\n",
    "print_re_search(p_string=\"b2-\", p_pattern=l_pattern)\n",
    "print_re_search(p_string=\"c6*\", p_pattern=l_pattern)\n",
    "\n",
    "# Можно указать диапазон, если символы следуют друг за другом \n",
    "l_pattern = \"[b-x][A-I][0-5][6-9]\"\n",
    "print_re_search(p_string=\"cB17\", p_pattern=l_pattern)\n",
    "print_re_search(p_string=\"aZ60\", p_pattern=l_pattern)\n",
    "\n",
    "# Не нужно экранировать спецсимволы - \n",
    "# не удалось сделать ничего с звездочкой в конце кроме перестановки\n",
    "# квадратные скобки надо экранировать \n",
    "# в строке, если нужен обратный слеш - его надо экранировать\n",
    "# то же самое необходимо сделать в r'..', если без r - то четыре обратных слеша\n",
    "l_pattern = r\"[.*+?{}\\[\\]\\\\]+\"\n",
    "print_re_search(p_string=\".*+?{}[]\\\\\", p_pattern=l_pattern)\n",
    "\n",
    "# Любые символы, кроме указанных\n",
    "l_pattern = \"[^2468][^^]\"\n",
    "print_re_search(p_string=\"19\", p_pattern=l_pattern)\n",
    "print_re_search(p_string=\"1^\", p_pattern=l_pattern)\n",
    "\n",
    "# Возникает вопрос, а если необходимо найти совпадение по ^ и еще какому-нибудь символу\n",
    "# Тогда - ^ не должен идти первым \n",
    "l_pattern = \"[a^]\"\n",
    "print_re_search(p_string=\"^\", p_pattern=l_pattern)\n"
   ]
  },
  {
   "cell_type": "code",
   "execution_count": 14,
   "id": "dd9122b7",
   "metadata": {},
   "outputs": [
    {
     "name": "stdout",
     "output_type": "stream",
     "text": [
      "\n",
      "Строка: abc\n",
      "Паттерн: abc|def\n",
      "Объект поиска: <re.Match object; span=(0, 3), match='abc'>\n",
      "\n",
      "Строка: def\n",
      "Паттерн: abc|def\n",
      "Объект поиска: <re.Match object; span=(0, 3), match='def'>\n",
      "\n",
      "Строка: |\n",
      "Паттерн: \\|\n",
      "Объект поиска: <re.Match object; span=(0, 1), match='|'>\n"
     ]
    }
   ],
   "source": [
    "# Метасимволы \n",
    "# | - типа или - выбрать одно из совпадений \n",
    "\n",
    "l_pattern = \"abc|def\"\n",
    "print_re_search(p_string=\"abc\", p_pattern=l_pattern)\n",
    "print_re_search(p_string=\"def\", p_pattern=l_pattern)\n",
    "\n",
    "# Этот символ надо экранировать, если нужно найти совпадение по вертикальной черте\n",
    "l_pattern = r\"\\|\"\n",
    "print_re_search(p_string=\"|\", p_pattern=l_pattern)\n"
   ]
  },
  {
   "cell_type": "code",
   "execution_count": 27,
   "id": "b467397f",
   "metadata": {},
   "outputs": [
    {
     "name": "stdout",
     "output_type": "stream",
     "text": [
      "\n",
      "Строка: 200-Ivan-...\n",
      "Паттерн: ^(\\d+)-([a-zA-Z]+)-(\\.+)\n",
      "Объект поиска: <re.Match object; span=(0, 12), match='200-Ivan-...'>\n",
      "Группа 0: 200-Ivan-...\n",
      "Группа 1: 200\n",
      "Группа 2: Ivan\n",
      "Группа 3: ...\n"
     ]
    }
   ],
   "source": [
    "# Метасимволы \n",
    "# (...) - группа\n",
    "\n",
    "# К группе можно обращаться и получать части строки, которым она соответствует\n",
    "l_pattern = r\"^(\\d+)-([a-zA-Z]+)-(\\.+)\"\n",
    "l_result = print_re_search(p_string=\"200-Ivan-...\", p_pattern=l_pattern)\n",
    "print(\"Группа 0:\", l_result.group(0))\n",
    "print(\"Группа 1:\", l_result.group(1))\n",
    "print(\"Группа 2:\", l_result.group(2))\n",
    "print(\"Группа 3:\", l_result.group(3))\n",
    "\n",
    "# TODO! Доработать re_print_search - чтобы он печатал группы, если они есть - пока по цифрам\n"
   ]
  },
  {
   "cell_type": "code",
   "execution_count": null,
   "id": "cd68c31f",
   "metadata": {},
   "outputs": [],
   "source": []
  }
 ],
 "metadata": {
  "kernelspec": {
   "display_name": "Python 3 (ipykernel)",
   "language": "python",
   "name": "python3"
  },
  "language_info": {
   "codemirror_mode": {
    "name": "ipython",
    "version": 3
   },
   "file_extension": ".py",
   "mimetype": "text/x-python",
   "name": "python",
   "nbconvert_exporter": "python",
   "pygments_lexer": "ipython3",
   "version": "3.8.5"
  }
 },
 "nbformat": 4,
 "nbformat_minor": 5
}
